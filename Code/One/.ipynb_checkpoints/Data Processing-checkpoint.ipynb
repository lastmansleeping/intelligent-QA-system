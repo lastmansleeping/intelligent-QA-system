{
 "metadata": {
  "name": "",
  "signature": "sha256:3c9f40de20a7fb0ea2712c78319fb394a5444903f446b4ac5b3b2a66782510b6"
 },
 "nbformat": 3,
 "nbformat_minor": 0,
 "worksheets": [
  {
   "cells": [
    {
     "cell_type": "code",
     "collapsed": false,
     "input": [
      "import pandas as pd\n",
      "import matplotlib.pyplot as plt\n",
      "import numpy as np\n",
      "\n",
      "%matplotlib inline"
     ],
     "language": "python",
     "metadata": {},
     "outputs": [],
     "prompt_number": 17
    },
    {
     "cell_type": "code",
     "collapsed": false,
     "input": [
      "train_df = pd.read_table('E:\\Major Project\\Data\\WikiQACorpus\\WikiQA-train.tsv')"
     ],
     "language": "python",
     "metadata": {},
     "outputs": [],
     "prompt_number": 5
    },
    {
     "cell_type": "code",
     "collapsed": false,
     "input": [
      "train_df.head()"
     ],
     "language": "python",
     "metadata": {},
     "outputs": [
      {
       "html": [
        "<div style=\"max-height:1000px;max-width:1500px;overflow:auto;\">\n",
        "<table border=\"1\" class=\"dataframe\">\n",
        "  <thead>\n",
        "    <tr style=\"text-align: right;\">\n",
        "      <th></th>\n",
        "      <th>QuestionID</th>\n",
        "      <th>Question</th>\n",
        "      <th>DocumentID</th>\n",
        "      <th>DocumentTitle</th>\n",
        "      <th>SentenceID</th>\n",
        "      <th>Sentence</th>\n",
        "      <th>Label</th>\n",
        "    </tr>\n",
        "  </thead>\n",
        "  <tbody>\n",
        "    <tr>\n",
        "      <th>0</th>\n",
        "      <td> Q1</td>\n",
        "      <td> how are glacier caves formed?</td>\n",
        "      <td> D1</td>\n",
        "      <td> Glacier cave</td>\n",
        "      <td> D1-0</td>\n",
        "      <td> A partly submerged glacier cave on Perito More...</td>\n",
        "      <td> 0</td>\n",
        "    </tr>\n",
        "    <tr>\n",
        "      <th>1</th>\n",
        "      <td> Q1</td>\n",
        "      <td> how are glacier caves formed?</td>\n",
        "      <td> D1</td>\n",
        "      <td> Glacier cave</td>\n",
        "      <td> D1-1</td>\n",
        "      <td>         The ice facade is approximately 60 m high</td>\n",
        "      <td> 0</td>\n",
        "    </tr>\n",
        "    <tr>\n",
        "      <th>2</th>\n",
        "      <td> Q1</td>\n",
        "      <td> how are glacier caves formed?</td>\n",
        "      <td> D1</td>\n",
        "      <td> Glacier cave</td>\n",
        "      <td> D1-2</td>\n",
        "      <td>         Ice formations in the Titlis glacier cave</td>\n",
        "      <td> 0</td>\n",
        "    </tr>\n",
        "    <tr>\n",
        "      <th>3</th>\n",
        "      <td> Q1</td>\n",
        "      <td> how are glacier caves formed?</td>\n",
        "      <td> D1</td>\n",
        "      <td> Glacier cave</td>\n",
        "      <td> D1-3</td>\n",
        "      <td> A glacier cave is a cave formed within the ice...</td>\n",
        "      <td> 1</td>\n",
        "    </tr>\n",
        "    <tr>\n",
        "      <th>4</th>\n",
        "      <td> Q1</td>\n",
        "      <td> how are glacier caves formed?</td>\n",
        "      <td> D1</td>\n",
        "      <td> Glacier cave</td>\n",
        "      <td> D1-4</td>\n",
        "      <td> Glacier caves are often called ice caves , but...</td>\n",
        "      <td> 0</td>\n",
        "    </tr>\n",
        "  </tbody>\n",
        "</table>\n",
        "</div>"
       ],
       "metadata": {},
       "output_type": "pyout",
       "prompt_number": 6,
       "text": [
        "  QuestionID                       Question DocumentID DocumentTitle  \\\n",
        "0         Q1  how are glacier caves formed?         D1  Glacier cave   \n",
        "1         Q1  how are glacier caves formed?         D1  Glacier cave   \n",
        "2         Q1  how are glacier caves formed?         D1  Glacier cave   \n",
        "3         Q1  how are glacier caves formed?         D1  Glacier cave   \n",
        "4         Q1  how are glacier caves formed?         D1  Glacier cave   \n",
        "\n",
        "  SentenceID                                           Sentence  Label  \n",
        "0       D1-0  A partly submerged glacier cave on Perito More...      0  \n",
        "1       D1-1          The ice facade is approximately 60 m high      0  \n",
        "2       D1-2          Ice formations in the Titlis glacier cave      0  \n",
        "3       D1-3  A glacier cave is a cave formed within the ice...      1  \n",
        "4       D1-4  Glacier caves are often called ice caves , but...      0  "
       ]
      }
     ],
     "prompt_number": 6
    },
    {
     "cell_type": "code",
     "collapsed": false,
     "input": [
      "train_df.count()"
     ],
     "language": "python",
     "metadata": {},
     "outputs": [
      {
       "metadata": {},
       "output_type": "pyout",
       "prompt_number": 7,
       "text": [
        "QuestionID       20347\n",
        "Question         20347\n",
        "DocumentID       20347\n",
        "DocumentTitle    20347\n",
        "SentenceID       20347\n",
        "Sentence         20347\n",
        "Label            20347\n",
        "dtype: int64"
       ]
      }
     ],
     "prompt_number": 7
    },
    {
     "cell_type": "code",
     "collapsed": false,
     "input": [
      "train_df.tail()"
     ],
     "language": "python",
     "metadata": {},
     "outputs": [
      {
       "html": [
        "<div style=\"max-height:1000px;max-width:1500px;overflow:auto;\">\n",
        "<table border=\"1\" class=\"dataframe\">\n",
        "  <thead>\n",
        "    <tr style=\"text-align: right;\">\n",
        "      <th></th>\n",
        "      <th>QuestionID</th>\n",
        "      <th>Question</th>\n",
        "      <th>DocumentID</th>\n",
        "      <th>DocumentTitle</th>\n",
        "      <th>SentenceID</th>\n",
        "      <th>Sentence</th>\n",
        "      <th>Label</th>\n",
        "    </tr>\n",
        "  </thead>\n",
        "  <tbody>\n",
        "    <tr>\n",
        "      <th>20342</th>\n",
        "      <td> Q3043</td>\n",
        "      <td>       what is section eight housing</td>\n",
        "      <td> D2807</td>\n",
        "      <td>                 Section 8 (housing)</td>\n",
        "      <td> D2807-8</td>\n",
        "      <td> A tenant who leaves a subsidized project will ...</td>\n",
        "      <td> 0</td>\n",
        "    </tr>\n",
        "    <tr>\n",
        "      <th>20343</th>\n",
        "      <td> Q3043</td>\n",
        "      <td>       what is section eight housing</td>\n",
        "      <td> D2807</td>\n",
        "      <td>                 Section 8 (housing)</td>\n",
        "      <td> D2807-9</td>\n",
        "      <td> The United States Department of Housing and Ur...</td>\n",
        "      <td> 0</td>\n",
        "    </tr>\n",
        "    <tr>\n",
        "      <th>20344</th>\n",
        "      <td> Q3044</td>\n",
        "      <td> what is the main type of restaurant</td>\n",
        "      <td> D2808</td>\n",
        "      <td>       Category:Types of restaurants</td>\n",
        "      <td> D2808-0</td>\n",
        "      <td> Restaurants categorized by type and informatio...</td>\n",
        "      <td> 0</td>\n",
        "    </tr>\n",
        "    <tr>\n",
        "      <th>20345</th>\n",
        "      <td> Q3046</td>\n",
        "      <td>    what is us dollar worth based on</td>\n",
        "      <td> D2810</td>\n",
        "      <td> History of the United States dollar</td>\n",
        "      <td> D2810-0</td>\n",
        "      <td>       U.S. Federal Reserve notes in the mid-1990s</td>\n",
        "      <td> 0</td>\n",
        "    </tr>\n",
        "    <tr>\n",
        "      <th>20346</th>\n",
        "      <td> Q3046</td>\n",
        "      <td>    what is us dollar worth based on</td>\n",
        "      <td> D2810</td>\n",
        "      <td> History of the United States dollar</td>\n",
        "      <td> D2810-1</td>\n",
        "      <td> The history of the United States dollar covers...</td>\n",
        "      <td> 0</td>\n",
        "    </tr>\n",
        "  </tbody>\n",
        "</table>\n",
        "</div>"
       ],
       "metadata": {},
       "output_type": "pyout",
       "prompt_number": 8,
       "text": [
        "      QuestionID                             Question DocumentID  \\\n",
        "20342      Q3043        what is section eight housing      D2807   \n",
        "20343      Q3043        what is section eight housing      D2807   \n",
        "20344      Q3044  what is the main type of restaurant      D2808   \n",
        "20345      Q3046     what is us dollar worth based on      D2810   \n",
        "20346      Q3046     what is us dollar worth based on      D2810   \n",
        "\n",
        "                             DocumentTitle SentenceID  \\\n",
        "20342                  Section 8 (housing)    D2807-8   \n",
        "20343                  Section 8 (housing)    D2807-9   \n",
        "20344        Category:Types of restaurants    D2808-0   \n",
        "20345  History of the United States dollar    D2810-0   \n",
        "20346  History of the United States dollar    D2810-1   \n",
        "\n",
        "                                                Sentence  Label  \n",
        "20342  A tenant who leaves a subsidized project will ...      0  \n",
        "20343  The United States Department of Housing and Ur...      0  \n",
        "20344  Restaurants categorized by type and informatio...      0  \n",
        "20345        U.S. Federal Reserve notes in the mid-1990s      0  \n",
        "20346  The history of the United States dollar covers...      0  "
       ]
      }
     ],
     "prompt_number": 8
    },
    {
     "cell_type": "code",
     "collapsed": false,
     "input": [
      "print \"# correct answer sentences : \", train_df['Label'].sum()\n",
      "print \"# candidate answer sentences : \", train_df['Label'].count()"
     ],
     "language": "python",
     "metadata": {},
     "outputs": [
      {
       "output_type": "stream",
       "stream": "stdout",
       "text": [
        "# correct answer sentences :  1039\n",
        "# candidate answer sentences :  20347\n"
       ]
      }
     ],
     "prompt_number": 14
    },
    {
     "cell_type": "code",
     "collapsed": false,
     "input": [
      "question_counts = train_df['QuestionID'].value_counts()"
     ],
     "language": "python",
     "metadata": {},
     "outputs": [],
     "prompt_number": 21
    },
    {
     "cell_type": "code",
     "collapsed": false,
     "input": [
      "positive_questions = train_df['QuestionID'][train_df['Label'] == 1]"
     ],
     "language": "python",
     "metadata": {},
     "outputs": [],
     "prompt_number": 34
    },
    {
     "cell_type": "code",
     "collapsed": false,
     "input": [
      "positive_questionIDs = positive_questions.tolist()"
     ],
     "language": "python",
     "metadata": {},
     "outputs": [],
     "prompt_number": 40
    },
    {
     "cell_type": "code",
     "collapsed": false,
     "input": [
      "positive_questions_df = train_df[train_df['QuestionID'] in positive_questionIDs]"
     ],
     "language": "python",
     "metadata": {},
     "outputs": [
      {
       "ename": "ValueError",
       "evalue": "The truth value of a Series is ambiguous. Use a.empty, a.bool(), a.item(), a.any() or a.all().",
       "output_type": "pyerr",
       "traceback": [
        "\u001b[1;31m---------------------------------------------------------------------------\u001b[0m\n\u001b[1;31mValueError\u001b[0m                                Traceback (most recent call last)",
        "\u001b[1;32m<ipython-input-41-83496f2ee361>\u001b[0m in \u001b[0;36m<module>\u001b[1;34m()\u001b[0m\n\u001b[1;32m----> 1\u001b[1;33m \u001b[0mpositive_questions_df\u001b[0m \u001b[1;33m=\u001b[0m \u001b[0mtrain_df\u001b[0m\u001b[1;33m[\u001b[0m\u001b[0mtrain_df\u001b[0m\u001b[1;33m[\u001b[0m\u001b[1;34m'QuestionID'\u001b[0m\u001b[1;33m]\u001b[0m \u001b[1;32min\u001b[0m \u001b[0mpositive_questionIDs\u001b[0m\u001b[1;33m]\u001b[0m\u001b[1;33m\u001b[0m\u001b[0m\n\u001b[0m",
        "\u001b[1;32mE:\\Currently Running\\Anaconda\\lib\\site-packages\\pandas\\core\\generic.pyc\u001b[0m in \u001b[0;36m__nonzero__\u001b[1;34m(self)\u001b[0m\n\u001b[0;32m    690\u001b[0m         raise ValueError(\"The truth value of a {0} is ambiguous. \"\n\u001b[0;32m    691\u001b[0m                          \u001b[1;34m\"Use a.empty, a.bool(), a.item(), a.any() or a.all().\"\u001b[0m\u001b[1;33m\u001b[0m\u001b[0m\n\u001b[1;32m--> 692\u001b[1;33m                          .format(self.__class__.__name__))\n\u001b[0m\u001b[0;32m    693\u001b[0m \u001b[1;33m\u001b[0m\u001b[0m\n\u001b[0;32m    694\u001b[0m     \u001b[0m__bool__\u001b[0m \u001b[1;33m=\u001b[0m \u001b[0m__nonzero__\u001b[0m\u001b[1;33m\u001b[0m\u001b[0m\n",
        "\u001b[1;31mValueError\u001b[0m: The truth value of a Series is ambiguous. Use a.empty, a.bool(), a.item(), a.any() or a.all()."
       ]
      }
     ],
     "prompt_number": 41
    },
    {
     "cell_type": "code",
     "collapsed": false,
     "input": [
      "train_df['QuestionID'] in "
     ],
     "language": "python",
     "metadata": {},
     "outputs": [
      {
       "metadata": {},
       "output_type": "pyout",
       "prompt_number": 47,
       "text": [
        "0      True\n",
        "1      True\n",
        "2      True\n",
        "3      True\n",
        "4      True\n",
        "5     False\n",
        "6     False\n",
        "7     False\n",
        "8     False\n",
        "9     False\n",
        "10    False\n",
        "11    False\n",
        "12    False\n",
        "13    False\n",
        "14    False\n",
        "...\n",
        "20332    False\n",
        "20333    False\n",
        "20334    False\n",
        "20335    False\n",
        "20336    False\n",
        "20337    False\n",
        "20338    False\n",
        "20339    False\n",
        "20340    False\n",
        "20341    False\n",
        "20342    False\n",
        "20343    False\n",
        "20344    False\n",
        "20345    False\n",
        "20346    False\n",
        "Name: QuestionID, Length: 20347, dtype: bool"
       ]
      }
     ],
     "prompt_number": 47
    },
    {
     "cell_type": "code",
     "collapsed": false,
     "input": [
      "def checkIfPositive(qID):\n",
      "    if qID in positive_questionIDs:\n",
      "        return True\n",
      "    else:\n",
      "        return False"
     ],
     "language": "python",
     "metadata": {},
     "outputs": [],
     "prompt_number": 48
    },
    {
     "cell_type": "code",
     "collapsed": false,
     "input": [
      "train_df.groupby('QuestionID').aggregate(sum)['Label'] == 0"
     ],
     "language": "python",
     "metadata": {},
     "outputs": [
      {
       "metadata": {},
       "output_type": "pyout",
       "prompt_number": 61,
       "text": [
        "0    1245\n",
        "1     744\n",
        "2     103\n",
        "3      20\n",
        "7       2\n",
        "5       1\n",
        "6       1\n",
        "4       1\n",
        "dtype: int64"
       ]
      }
     ],
     "prompt_number": 61
    },
    {
     "cell_type": "code",
     "collapsed": false,
     "input": [
      "positiveTrain_df = pd.DataFrame(columns = train_df.columns)\n",
      "for _, row in train_df.iterrows():\n",
      "    if row['QuestionID'] in positive_questionIDs:\n",
      "        positiveTrain_df.append(row)"
     ],
     "language": "python",
     "metadata": {},
     "outputs": [],
     "prompt_number": 64
    },
    {
     "cell_type": "code",
     "collapsed": true,
     "input": [],
     "language": "python",
     "metadata": {},
     "outputs": []
    }
   ],
   "metadata": {}
  }
 ]
}