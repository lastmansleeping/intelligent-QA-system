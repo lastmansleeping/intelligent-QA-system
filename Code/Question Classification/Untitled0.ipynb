{
 "metadata": {
  "name": "",
  "signature": "sha256:8104792171caadd035ea1c1ba5687afeef75f86d7541aea641e85c905a37378a"
 },
 "nbformat": 3,
 "nbformat_minor": 0,
 "worksheets": [
  {
   "cells": [
    {
     "cell_type": "code",
     "collapsed": false,
     "input": [
      "from sklearn import linear_model\n",
      "import gensim\n",
      "import operator\n",
      "import string\n",
      "import random\n",
      "import numpy as np"
     ],
     "language": "python",
     "metadata": {},
     "outputs": [],
     "prompt_number": 1
    },
    {
     "cell_type": "code",
     "collapsed": false,
     "input": [],
     "language": "python",
     "metadata": {},
     "outputs": [],
     "prompt_number": 2
    },
    {
     "cell_type": "code",
     "collapsed": false,
     "input": [],
     "language": "python",
     "metadata": {},
     "outputs": []
    }
   ],
   "metadata": {}
  }
 ]
}