{
 "cells": [
  {
   "cell_type": "code",
   "execution_count": 63,
   "metadata": {
    "collapsed": false
   },
   "outputs": [],
   "source": [
    "import pandas as pd\n",
    "import matplotlib.pyplot as plt\n",
    "import numpy as np\n",
    "import nltk\n",
    "import time\n",
    "from nltk.corpus import wordnet as wn\n",
    "\n",
    "%matplotlib inline\n",
    "plt.style.use('ggplot')"
   ]
  },
  {
   "cell_type": "markdown",
   "metadata": {},
   "source": [
    "##### #Trying Wordnet from nltk.corpus import wordnet as wn"
   ]
  },
  {
   "cell_type": "code",
   "execution_count": 3,
   "metadata": {
    "collapsed": false
   },
   "outputs": [],
   "source": [
    "syns = wn.synsets(\"program\")"
   ]
  },
  {
   "cell_type": "code",
   "execution_count": 4,
   "metadata": {
    "collapsed": false
   },
   "outputs": [
    {
     "name": "stdout",
     "output_type": "stream",
     "text": [
      "[Synset('plan.n.01'), Synset('program.n.02'), Synset('broadcast.n.02'), Synset('platform.n.02'), Synset('program.n.05'), Synset('course_of_study.n.01'), Synset('program.n.07'), Synset('program.n.08'), Synset('program.v.01'), Synset('program.v.02')]\n"
     ]
    }
   ],
   "source": [
    "from sets import Set\n"
   ]
  },
  {
   "cell_type": "code",
   "execution_count": 8,
   "metadata": {
    "collapsed": false
   },
   "outputs": [
    {
     "data": {
      "text/plain": [
       "[Synset('person.n.01')]"
      ]
     },
     "execution_count": 8,
     "metadata": {},
     "output_type": "execute_result"
    }
   ],
   "source": [
    "wn.synset('person.n.01').lowest_common_hypernyms(wn.synset('chef.n.01'))"
   ]
  },
  {
   "cell_type": "code",
   "execution_count": 44,
   "metadata": {
    "collapsed": false
   },
   "outputs": [
    {
     "name": "stdout",
     "output_type": "stream",
     "text": [
      "say\n",
      "set([u'beneficial', u'right', u'secure', u'just', u'unspoilt', u'respectable', u'good', u'goodness', u'dear', u'salutary', u'ripe', u'expert', u'skillful', u'in_force', u'proficient', u'unspoiled', u'dependable', u'soundly', u'honorable', u'full', u'undecomposed', u'safe', u'adept', u'upright', u'trade_good', u'sound', u'in_effect', u'practiced', u'effective', u'commodity', u'estimable', u'well', u'honest', u'near', u'skilful', u'thoroughly', u'serious'])\n",
      "set([u'bad', u'badness', u'ill', u'evil', u'evilness'])\n"
     ]
    }
   ],
   "source": [
    "synonyms = []\n",
    "antonyms = []\n",
    "\n",
    "lemmatizer = nltk.WordNetLemmatizer()\n",
    "print lemmatizer.lemmatize(\"says\")\n",
    "for syn in wordnet.synsets(\"good\"):\n",
    "    for l in syn.lemmas():\n",
    "        synonyms.append(l.name())\n",
    "        if l.antonyms():\n",
    "            antonyms.append(l.antonyms()[0].name())\n",
    "\n",
    "print(set(synonyms))\n",
    "print(set(antonyms))"
   ]
  },
  {
   "cell_type": "code",
   "execution_count": 125,
   "metadata": {
    "collapsed": false
   },
   "outputs": [
    {
     "name": "stdout",
     "output_type": "stream",
     "text": [
      "[u'advantage', u'vantage']\n",
      "[u'morality']\n",
      "[u'quality']\n",
      "[u'artifact', u'artefact']\n",
      "no hypernyms\n",
      "no hypernyms\n",
      "no hypernyms\n",
      "no hypernyms\n",
      "no hypernyms\n",
      "no hypernyms\n",
      "no hypernyms\n",
      "no hypernyms\n",
      "no hypernyms\n",
      "no hypernyms\n",
      "no hypernyms\n",
      "no hypernyms\n",
      "no hypernyms\n",
      "no hypernyms\n",
      "no hypernyms\n",
      "no hypernyms\n",
      "no hypernyms\n",
      "no hypernyms\n",
      "no hypernyms\n",
      "no hypernyms\n",
      "no hypernyms\n",
      "no hypernyms\n",
      "no hypernyms\n"
     ]
    }
   ],
   "source": [
    "y = wn.synsets('good')\n",
    "for x in y:\n",
    "    try:\n",
    "        if x.hypernyms():\n",
    "            print x.hypernyms()[0].lemma_names()\n",
    "        else:\n",
    "            print \"no hypernyms\"\n",
    "    except:\n",
    "        print \"error\""
   ]
  },
  {
   "cell_type": "code",
   "execution_count": 22,
   "metadata": {
    "collapsed": false
   },
   "outputs": [
    {
     "name": "stdout",
     "output_type": "stream",
     "text": [
      "0\n"
     ]
    }
   ],
   "source": [
    "def edit_distance(s1, s2):\n",
    "    m=len(s1)+1\n",
    "    n=len(s2)+1\n",
    "\n",
    "    tbl = {}\n",
    "    for i in range(m): tbl[i,0]=i\n",
    "    for j in range(n): tbl[0,j]=j\n",
    "    for i in range(1, m):\n",
    "        for j in range(1, n):\n",
    "            cost = 0 if s1[i-1] == s2[j-1] else 1\n",
    "            tbl[i,j] = min(tbl[i, j-1]+1, tbl[i-1, j]+1, tbl[i-1, j-1]+cost)\n",
    "\n",
    "    return tbl[i,j]\n",
    "\n",
    "print(edit_distance(\"HalloWorld\", \"HalloWorld\"))"
   ]
  },
  {
   "cell_type": "code",
   "execution_count": 214,
   "metadata": {
    "collapsed": false
   },
   "outputs": [
    {
     "data": {
      "text/plain": [
       "{'AntonymCount': 0, 'HypernymCount': 0, 'HyponymCount': 0, 'SynonymCount': 2}"
      ]
     },
     "execution_count": 214,
     "metadata": {},
     "output_type": "execute_result"
    }
   ],
   "source": [
    "def removeStopWords(tokens):\n",
    "    return [t for t in tokens if t not in nltk.corpus.stopwords.words('english')]\n",
    "\n",
    "def getLemmas(tokens):\n",
    "    lemmatizer = nltk.WordNetLemmatizer()\n",
    "    return [lemmatizer.lemmatize(t.decode('utf-8')) for t in tokens]\n",
    "\n",
    "def getWordnetDict(word):\n",
    "    synonyms = []\n",
    "    antonyms = []\n",
    "    hypernyms = []\n",
    "    hyponyms = []\n",
    "    \n",
    "    for synset in wn.synsets(word):\n",
    "        #synonyms and antonyms\n",
    "        for lemma in synset.lemmas():\n",
    "            synonyms.append(lemma.name())\n",
    "            if lemma.antonyms():\n",
    "                antonyms.append(lemma.antonyms()[0].name())\n",
    "        \n",
    "        #hypernyms\n",
    "        if synset.hypernyms():\n",
    "            hypernyms.extend(synset.hypernyms()[0].lemma_names())\n",
    "        \n",
    "        #hyponyms    \n",
    "        for y in [x.lemma_names() for x in synset.hyponyms()]:\n",
    "            hyponyms.extend(y)\n",
    "    \n",
    "    wordnet_dict = {'synonyms': list(set(synonyms)), 'antonyms': list(set(antonyms)), 'hypernyms': list(set(hypernyms)), 'hyponyms': list(set(hyponyms))}    \n",
    "    return wordnet_dict\n",
    "\n",
    "def getWordnetFeatures(question, sentence):\n",
    "    \n",
    "    #tokenize question and sentences\n",
    "    qTokens = nltk.word_tokenize(question)\n",
    "    sTokens = nltk.word_tokenize(sentence)\n",
    "    \n",
    "    #remove stop words\n",
    "    qTokens = removeStopWords(qTokens)\n",
    "    sTokens = removeStopWords(sTokens)\n",
    "    \n",
    "    #Lemmatize tokens\n",
    "    qTokens = getLemmas(qTokens)\n",
    "    sTokens = getLemmas(sTokens)\n",
    "    \n",
    "    synonym_count = 0\n",
    "    antonym_count = 0\n",
    "    hypernym_count = 0\n",
    "    hyponym_count = 0\n",
    "    \n",
    "    for q_token in qTokens:\n",
    "        q_token_wordnet_dict = getWordnetDict(q_token)\n",
    "        synonyms = q_token_wordnet_dict['synonyms']\n",
    "        antonyms = q_token_wordnet_dict['antonyms']\n",
    "        hypernyms = q_token_wordnet_dict['hypernyms']\n",
    "        hyponyms = q_token_wordnet_dict['hyponyms']\n",
    "        for synonym in synonyms:\n",
    "            try:\n",
    "                if synonym in sTokens:\n",
    "                    synonym_count = synonym_count + 1\n",
    "                    break\n",
    "            except:\n",
    "                print synonym, sTokens\n",
    "                \n",
    "        for antonym in antonyms:\n",
    "            try:\n",
    "                if antonym in sTokens:\n",
    "                    antonym_count = antonym_count + 1\n",
    "                    break\n",
    "            except:\n",
    "                print antonym, sTokens\n",
    "        \n",
    "        for hypernym in hypernyms:\n",
    "            try:\n",
    "                if hypernym in sTokens:\n",
    "                    hypernym_count = hypernym_count + 1\n",
    "                    break\n",
    "            except:\n",
    "                print hypernym, sTokens\n",
    "        \n",
    "        for hyponym in hyponyms:\n",
    "            try:\n",
    "                if hyponym in sTokens:\n",
    "                    hyponym_count = hyponym_count + 1\n",
    "                    break\n",
    "            except:\n",
    "                print hyponym, sTokens\n",
    "    \n",
    "    return {'SynonymCount' : synonym_count, 'AntonymCount' : antonym_count, 'HypernymCount' : hypernym_count, 'HyponymCount' : hyponym_count}\n",
    "\n",
    "getWordnetFeatures(\"how much is 1 tablespoon of water\", \"In Australia one tablespoon measurement unit is 20 mL\")"
   ]
  },
  {
   "cell_type": "code",
   "execution_count": 140,
   "metadata": {
    "collapsed": false
   },
   "outputs": [
    {
     "name": "stdout",
     "output_type": "stream",
     "text": [
      "[u'advantage', u'vantage']\n"
     ]
    }
   ],
   "source": [
    "temp = wn.synset('good.n.01')\n",
    "lst = []\n",
    "for y in [x.lemma_names() for x in temp.hypernyms()]:\n",
    "    lst.extend(y)\n",
    "print lst"
   ]
  },
  {
   "cell_type": "code",
   "execution_count": 106,
   "metadata": {
    "collapsed": false
   },
   "outputs": [
    {
     "data": {
      "text/plain": [
       "[u'car.n.01', u'car.n.02', u'car.n.03', u'car.n.04', u'cable_car.n.01']"
      ]
     },
     "execution_count": 106,
     "metadata": {},
     "output_type": "execute_result"
    }
   ],
   "source": [
    "[ for x in wn.synsets('car')]"
   ]
  },
  {
   "cell_type": "code",
   "execution_count": 103,
   "metadata": {
    "collapsed": false
   },
   "outputs": [
    {
     "ename": "ValueError",
     "evalue": "need more than 1 value to unpack",
     "output_type": "error",
     "traceback": [
      "\u001b[1;31m---------------------------------------------------------------------------\u001b[0m\n\u001b[1;31mValueError\u001b[0m                                Traceback (most recent call last)",
      "\u001b[1;32m<ipython-input-103-ed5b0d5501f6>\u001b[0m in \u001b[0;36m<module>\u001b[1;34m()\u001b[0m\n\u001b[1;32m----> 1\u001b[1;33m \u001b[0mwn\u001b[0m\u001b[1;33m.\u001b[0m\u001b[0mlemma\u001b[0m\u001b[1;33m(\u001b[0m\u001b[1;34m'cars'\u001b[0m\u001b[1;33m)\u001b[0m\u001b[1;33m\u001b[0m\u001b[0m\n\u001b[0m",
      "\u001b[1;32mE:\\Currently Running\\Anaconda\\lib\\site-packages\\nltk\\corpus\\reader\\wordnet.pyc\u001b[0m in \u001b[0;36mlemma\u001b[1;34m(self, name, lang)\u001b[0m\n\u001b[0;32m   1178\u001b[0m     \u001b[1;32mdef\u001b[0m \u001b[0mlemma\u001b[0m\u001b[1;33m(\u001b[0m\u001b[0mself\u001b[0m\u001b[1;33m,\u001b[0m \u001b[0mname\u001b[0m\u001b[1;33m,\u001b[0m \u001b[0mlang\u001b[0m\u001b[1;33m=\u001b[0m\u001b[1;34m'en'\u001b[0m\u001b[1;33m)\u001b[0m\u001b[1;33m:\u001b[0m\u001b[1;33m\u001b[0m\u001b[0m\n\u001b[0;32m   1179\u001b[0m         \u001b[1;34m'''Return lemma object that matches the name'''\u001b[0m\u001b[1;33m\u001b[0m\u001b[0m\n\u001b[1;32m-> 1180\u001b[1;33m         \u001b[0msynset_name\u001b[0m\u001b[1;33m,\u001b[0m \u001b[0mlemma_name\u001b[0m \u001b[1;33m=\u001b[0m \u001b[0mname\u001b[0m\u001b[1;33m.\u001b[0m\u001b[0mrsplit\u001b[0m\u001b[1;33m(\u001b[0m\u001b[1;34m'.'\u001b[0m\u001b[1;33m,\u001b[0m \u001b[1;36m1\u001b[0m\u001b[1;33m)\u001b[0m\u001b[1;33m\u001b[0m\u001b[0m\n\u001b[0m\u001b[0;32m   1181\u001b[0m         \u001b[0msynset\u001b[0m \u001b[1;33m=\u001b[0m \u001b[0mself\u001b[0m\u001b[1;33m.\u001b[0m\u001b[0msynset\u001b[0m\u001b[1;33m(\u001b[0m\u001b[0msynset_name\u001b[0m\u001b[1;33m)\u001b[0m\u001b[1;33m\u001b[0m\u001b[0m\n\u001b[0;32m   1182\u001b[0m         \u001b[1;32mfor\u001b[0m \u001b[0mlemma\u001b[0m \u001b[1;32min\u001b[0m \u001b[0msynset\u001b[0m\u001b[1;33m.\u001b[0m\u001b[0mlemmas\u001b[0m\u001b[1;33m(\u001b[0m\u001b[0mlang\u001b[0m\u001b[1;33m)\u001b[0m\u001b[1;33m:\u001b[0m\u001b[1;33m\u001b[0m\u001b[0m\n",
      "\u001b[1;31mValueError\u001b[0m: need more than 1 value to unpack"
     ]
    }
   ],
   "source": [
    "wn.lemma"
   ]
  },
  {
   "cell_type": "code",
   "execution_count": 135,
   "metadata": {
    "collapsed": false
   },
   "outputs": [
    {
     "name": "stdout",
     "output_type": "stream",
     "text": [
      "A correctional facility, detention center, gaol (Australia, Canada, New Zealand, Ireland, UK), jail, penitentiary, prison, or remand centre is a facility in which inmates are forcibly confined and denied a variety of freedoms under the authority of the State as a form of punishment. Prisons are most commonly used within a criminal justice system: people charged with crimes may be imprisoned until they are brought to trial; those pleading or being found guilty of crimes at trial may be sentenced to a specified period of imprisonment. Besides their use for punishing civil crimes, jails and prisons are frequently used by authoritarian regimes as tools of political repression, to punish what are deemed political crimes, often without trial or other legal due process; this use is illegal under most forms of international law governing fair administration of justice. In times of war, prisoners of war or detainees may be detained in military prisons or prisoner of war camps, and large groups of civilians might be imprisoned in internment camps.\n"
     ]
    }
   ],
   "source": [
    "import wikipedia\n",
    "print wikipedia.summary(\"Prison\")"
   ]
  },
  {
   "cell_type": "code",
   "execution_count": 13,
   "metadata": {
    "collapsed": false
   },
   "outputs": [
    {
     "name": "stderr",
     "output_type": "stream",
     "text": [
      "WARNING:gensim.models.word2vec:consider setting layer size to a multiple of 4 for greater performance\n"
     ]
    },
    {
     "name": "stdout",
     "output_type": "stream",
     "text": [
      "Wall time: 4min 55s\n"
     ]
    },
    {
     "name": "stderr",
     "output_type": "stream",
     "text": [
      "C:\\Users\\JareD\\Anaconda2\\lib\\site-packages\\ipykernel\\__main__.py:17: UnicodeWarning: Unicode equal comparison failed to convert both arguments to Unicode - interpreting them as being unequal\n"
     ]
    },
    {
     "data": {
      "text/plain": [
       "'\\ndef getFeaturesPipeline():\\n    #Load Positive Training Data\\n    positive_df = loadDataset()\\n    \\n    #get features\\n    %time features_df = getFeatures(positive_df)\\n    \\n    return features_df\\n\\nfeatures_df = getFeaturesPipeline() \\n'"
      ]
     },
     "execution_count": 13,
     "metadata": {},
     "output_type": "execute_result"
    }
   ],
   "source": [
    "import string, re\n",
    "import nltk\n",
    "import math\n",
    "from sets import Set\n",
    "from sklearn.linear_model import LogisticRegression\n",
    "import time\n",
    "from sklearn.externals import joblib\n",
    "import gensim\n",
    "import operator\n",
    "\n",
    "idfWeights = {}\n",
    "\n",
    "def removePunctuation(inputString):\n",
    "    return re.sub('[%s]' % re.escape(string.punctuation), ' ', inputString)\n",
    "\n",
    "def removeStopWords(tokens):\n",
    "    return [t for t in tokens if t not in nltk.corpus.stopwords.words('english')]\n",
    "\n",
    "def getBigrams(tokens):\n",
    "    bigrams = []\n",
    "    for i in range(len(tokens) - 1):\n",
    "        bigram = tokens[i], tokens[i + 1]\n",
    "        bigrams.append(bigram)\n",
    "    return bigrams\n",
    "\n",
    "def getTrigrams(tokens):\n",
    "    trigrams = []\n",
    "    for i in range(len(tokens) - 2):\n",
    "        trigram = tokens[i], tokens[i + 1], tokens[i + 2]\n",
    "        trigrams.append(trigram)\n",
    "    return trigrams\n",
    "    \n",
    "def getLemmas(tokens):\n",
    "    lemmatizer = nltk.WordNetLemmatizer()\n",
    "    return [lemmatizer.lemmatize(t.decode('utf-8')) for t in tokens]\n",
    "    \n",
    "def getIDFWeights(df):\n",
    "    IDFWeights = {}\n",
    "    typeList = ['train', 'test', 'dev']\n",
    "    for rowType in typeList:\n",
    "        df_specific_type = df[df['Type'] == rowType]\n",
    "        unique_question_IDs = df_specific_type['QuestionID'].unique()\n",
    "        for qid in unique_question_IDs:\n",
    "            df_specific_id = df_specific_type[df_specific_type['QuestionID'] == qid]\n",
    "            frequencies = {}\n",
    "            no_of_documents = 0\n",
    "            for index, row in df_specific_id.iterrows():\n",
    "                no_of_documents = no_of_documents + 1\n",
    "                sentence = row['Sentence']\n",
    "                sentence = removePunctuation(sentence)\n",
    "                sentence = sentence.lower()\n",
    "                sTokens = nltk.word_tokenize(sentence)\n",
    "                sTokens = Set(sTokens)\n",
    "                for token in sTokens:\n",
    "                    if frequencies.has_key(token):\n",
    "                        frequencies[token] = frequencies[token] + 1\n",
    "                    else:\n",
    "                        frequencies[token] = 1\n",
    "            \n",
    "            for index, row in df_specific_id.iterrows():\n",
    "                sentence = row['Sentence']\n",
    "                sentence = removePunctuation(sentence)\n",
    "                sentence = sentence.lower()\n",
    "                sTokens = nltk.word_tokenize(sentence)\n",
    "                sTokens = Set(sTokens)\n",
    "                sentDict = {}\n",
    "                for token in sTokens:\n",
    "                    idfWeight = math.log(no_of_documents) - math.log(frequencies[token])\n",
    "                    sentDict[token] = idfWeight\n",
    "                IDFWeights[(rowType, qid, row['SentenceID'])] = sentDict\n",
    "    return IDFWeights\n",
    "\n",
    "def getWordnetDict(word):\n",
    "    synonyms = []\n",
    "    antonyms = []\n",
    "    hypernyms = []\n",
    "    hyponyms = []\n",
    "    \n",
    "    for synset in wn.synsets(word):\n",
    "        #synonyms and antonyms\n",
    "        for lemma in synset.lemmas():\n",
    "            synonyms.append(lemma.name())\n",
    "            if lemma.antonyms():\n",
    "                antonyms.append(lemma.antonyms()[0].name())\n",
    "        \n",
    "        #hypernyms\n",
    "        if synset.hypernyms():\n",
    "            hypernyms.extend(synset.hypernyms()[0].lemma_names())\n",
    "        \n",
    "        #hyponyms    \n",
    "        for y in [x.lemma_names() for x in synset.hyponyms()]:\n",
    "            hyponyms.extend(y)\n",
    "    \n",
    "    wordnet_dict = {'synonyms': list(set(synonyms)), 'antonyms': list(set(antonyms)), 'hypernyms': list(set(hypernyms)), 'hyponyms': list(set(hyponyms))}    \n",
    "    return wordnet_dict\n",
    "\n",
    "def getWordnetFeatures(question, sentence):\n",
    "    \n",
    "    #tokenize question and sentences\n",
    "    qTokens = nltk.word_tokenize(question)\n",
    "    sTokens = nltk.word_tokenize(sentence)\n",
    "    \n",
    "    #remove stop words\n",
    "    qTokens = removeStopWords(qTokens)\n",
    "    sTokens = removeStopWords(sTokens)\n",
    "    \n",
    "    #Lemmatize tokens\n",
    "    qTokens = getLemmas(qTokens)\n",
    "    sTokens = getLemmas(sTokens)\n",
    "    \n",
    "    synonym_count = 0\n",
    "    antonym_count = 0\n",
    "    hypernym_count = 0\n",
    "    hyponym_count = 0\n",
    "    \n",
    "    for q_token in qTokens:\n",
    "        q_token_wordnet_dict = getWordnetDict(q_token)\n",
    "        synonyms = q_token_wordnet_dict['synonyms']\n",
    "        antonyms = q_token_wordnet_dict['antonyms']\n",
    "        hypernyms = q_token_wordnet_dict['hypernyms']\n",
    "        hyponyms = q_token_wordnet_dict['hyponyms']\n",
    "        for synonym in synonyms:\n",
    "            try:\n",
    "                if synonym in sTokens:\n",
    "                    synonym_count = synonym_count + 1\n",
    "                    break\n",
    "            except:\n",
    "                print synonym, sTokens\n",
    "                \n",
    "        for antonym in antonyms:\n",
    "            try:\n",
    "                if antonym in sTokens:\n",
    "                    antonym_count = antonym_count + 1\n",
    "                    break\n",
    "            except:\n",
    "                print antonym, sTokens\n",
    "        \n",
    "        for hypernym in hypernyms:\n",
    "            try:\n",
    "                if hypernym in sTokens:\n",
    "                    hypernym_count = hypernym_count + 1\n",
    "                    break\n",
    "            except:\n",
    "                print hypernym, sTokens\n",
    "        \n",
    "        for hyponym in hyponyms:\n",
    "            try:\n",
    "                if hyponym in sTokens:\n",
    "                    hyponym_count = hyponym_count + 1\n",
    "                    break\n",
    "            except:\n",
    "                print hyponym, sTokens\n",
    "    \n",
    "    return {'SynonymCount' : synonym_count, 'AntonymCount' : antonym_count, 'HypernymCount' : hypernym_count, 'HyponymCount' : hyponym_count}\n",
    "\n",
    "#Levenshtein Edit Distance\n",
    "def getLevenshteinEditDistance(s1, s2):\n",
    "    m=len(s1)+1\n",
    "    n=len(s2)+1\n",
    "\n",
    "    tbl = {}\n",
    "    for i in range(m): tbl[i,0]=i\n",
    "    for j in range(n): tbl[0,j]=j\n",
    "    for i in range(1, m):\n",
    "        for j in range(1, n):\n",
    "            cost = 0 if s1[i-1] == s2[j-1] else 1\n",
    "            tbl[i,j] = min(tbl[i, j-1]+1, tbl[i-1, j]+1, tbl[i-1, j-1]+cost)\n",
    "\n",
    "    return tbl[i,j]\n",
    "\n",
    "#------------------------------------------------------------------------------------------------\n",
    "#Question Classification\n",
    "\n",
    "#Question Classification Variables\n",
    "question_classifier = joblib.load('C:\\Users\\JareD\\Major Project\\EvenSem\\Models\\Question Classifier\\question_classifier.pkl') \n",
    "word_vector_path = \"C:\\Users\\JareD\\Major Project\\EvenSem\\Question Classification\\question-classification-master\\data\\glove.6B.50d.txt\"\n",
    "word_vector = gensim.models.Word2Vec.load_word2vec_format(word_vector_path, binary=False)\n",
    "vector_dim = 50\n",
    "\n",
    "def getQuestionType(question):\n",
    "    return question_classifier.predict(np.array(average_vector(word_vector, question.lower())).reshape(1, -1))[0]\n",
    "\n",
    "def average_vector2(dictionary, question):\n",
    "    cnt = 0\n",
    "    s = [0]*vector_dim\n",
    "    for w in question.split(\" \"):\n",
    "        w = w.lower()\n",
    "        cnt += 1\n",
    "        try:\n",
    "            # print word, word_vector[word]\n",
    "            s = map(operator.add, dictionary[w], s)\n",
    "        except KeyError:\n",
    "            cnt -= 1\n",
    "            # pass #Use random vector or skip?\n",
    "#             s = map(operator.add, dictionary.seeded_vector(random_generator(50)), s)\n",
    "    if cnt == 0:\n",
    "        return s\n",
    "    return [elem/float(cnt) for elem in s]\n",
    "\n",
    "def average_vector(dictionary, question):\n",
    "    splitted = question.split(\" \")\n",
    "    s = [0]*vector_dim\n",
    "    cnt = 2.0\n",
    "    try:\n",
    "        if (len(splitted) == 0):\n",
    "            return s\n",
    "        else:\n",
    "            s = map(operator.add, dictionary[splitted[0].lower()], s)\n",
    "            if (len(splitted) <= 1):\n",
    "                return s\n",
    "            s = map(operator.add, dictionary[splitted[1].lower()], s)\n",
    "            if (splitted[0].lower() == 'what' and splitted[1].lower() == 'is'):\n",
    "                return average_vector2(dictionary, question)\n",
    "#                 s = map(operator.add, dictionary[splitted[3].lower()], s)\n",
    "#                 cnt += 1.0\n",
    "            return [elem/cnt for elem in s]         \n",
    "    except KeyError:\n",
    "        return s \n",
    "#-------------------------------------------------------------------------------------------------   \n",
    "\n",
    "def getFeatures(df):\n",
    "    #Make a dataframe and groupby QuestionID\n",
    "    columns = ['QuestionID', 'SentenceID', 'Label', 'Type']\n",
    "    columns = columns + ['Question', 'Sentence']\n",
    "    columns = columns + ['QuestionType']\n",
    "    features = ['UnigramCount', 'BigramCount', 'TrigramCount', 'LemmaCount', 'IDFUnigramCount']\n",
    "    features = features + ['SynonymCount', 'AntonymCount', 'HypernymCount', 'HyponymCount']\n",
    "    features = features + ['LevenshteinEditDistance']\n",
    "    dfFeatures = pd.DataFrame(columns = columns + features)\n",
    "    \n",
    "    \n",
    "    #Get IDF Vectors\n",
    "    IDFWeights = getIDFWeights(df)\n",
    "    for index, row in df.iterrows():\n",
    "        #empty dictionary\n",
    "        featureVector = {}\n",
    "        \n",
    "        question = row['Question']\n",
    "        sentence = row['Sentence']\n",
    "\n",
    "        #Remove punctuation \n",
    "        question = removePunctuation(question)\n",
    "        sentence = removePunctuation(sentence)\n",
    "\n",
    "        #Convert to Lower case\n",
    "        question = question.lower()\n",
    "        sentence = sentence.lower()\n",
    "\n",
    "        featureVector['QuestionID'] = row['QuestionID']\n",
    "        featureVector['SentenceID'] = row['SentenceID']\n",
    "        featureVector['Label'] = row['Label']\n",
    "        featureVector['Type'] = row['Type']\n",
    "        featureVector['Question'] = question\n",
    "        featureVector['Sentence'] = sentence\n",
    "        \n",
    "        #tokenize\n",
    "        qTokens = nltk.word_tokenize(question)\n",
    "        sTokens = nltk.word_tokenize(sentence)\n",
    "        \n",
    "        #print len(qTokens), len(sTokens)\n",
    "        \n",
    "        #Bigram count\n",
    "        qBigrams = getBigrams(qTokens)\n",
    "        sBigrams = getBigrams(sTokens)\n",
    "        bigramCount = 0\n",
    "        for i in qBigrams:\n",
    "            try:\n",
    "                if i in sBigrams:\n",
    "                    bigramCount = bigramCount + 1\n",
    "            except:\n",
    "                print i, sTokens\n",
    "        featureVector['BigramCount'] = bigramCount\n",
    "        \n",
    "        #Trigram count\n",
    "        qTrigrams = getTrigrams(qTokens)\n",
    "        sTrigrams = getTrigrams(sTokens)\n",
    "        trigramCount = 0\n",
    "        for i in qTrigrams:\n",
    "            try:\n",
    "                if i in sTrigrams:\n",
    "                    trigramCount = trigramCount + 1\n",
    "            except:\n",
    "                print i, sTokens\n",
    "        featureVector['TrigramCount'] = trigramCount\n",
    "        \n",
    "        #Remove stop words\n",
    "        qTokens = removeStopWords(qTokens)\n",
    "        sTokens = removeStopWords(sTokens)\n",
    "        \n",
    "        #Unigram Count and IDF unigram count\n",
    "        IDFUnigramCount = 0\n",
    "        unigramCount = 0\n",
    "        for i in qTokens:\n",
    "            try:\n",
    "                if i in sTokens:\n",
    "                    unigramCount = unigramCount + 1\n",
    "                    IDFUnigramCount = IDFUnigramCount + IDFWeights[(row['Type'], row['QuestionID'], row['SentenceID'])][i]\n",
    "            except:\n",
    "                print i, sTokens\n",
    "        featureVector['UnigramCount'] = unigramCount\n",
    "        featureVector['IDFUnigramCount'] = IDFUnigramCount\n",
    "        \n",
    "        #Parent Lemma Unigram Count\n",
    "        qLemmas = getLemmas(qTokens)\n",
    "        sLemmas = getLemmas(sTokens)\n",
    "        lemmaCount = 0\n",
    "        for i in qLemmas:\n",
    "            try:\n",
    "                if i in sLemmas:\n",
    "                    lemmaCount = lemmaCount + 1\n",
    "            except:\n",
    "                    print i, sTokens\n",
    "        featureVector['LemmaCount'] = lemmaCount\n",
    "        \n",
    "        #Wordnet Features\n",
    "        wordnet_features = getWordnetFeatures(question, sentence)\n",
    "        featureVector['SynonymCount'] = wordnet_features['SynonymCount'] - lemmaCount\n",
    "        featureVector['AntonymCount'] = wordnet_features['AntonymCount']\n",
    "        featureVector['HypernymCount'] = wordnet_features['HypernymCount']\n",
    "        featureVector['HyponymCount'] = wordnet_features['HyponymCount']\n",
    "        \n",
    "        #Levenshtein Distance\n",
    "        levenshtein_distance = getLevenshteinEditDistance(qLemmas, sLemmas)\n",
    "        featureVector['LevenshteinEditDistance'] = levenshtein_distance\n",
    "        \n",
    "        #Question Classification\n",
    "        question_type = getQuestionType(question)\n",
    "        featureVector['QuestionType'] = question_type\n",
    "        \n",
    "        #Append features to dataframe\n",
    "        dfFeatures = dfFeatures.append(pd.DataFrame([featureVector]), ignore_index = True)\n",
    "    return dfFeatures \n",
    "\n",
    "def loadDataset():\n",
    "    positive_df = pd.read_table('C:\\Users\\JareD\\Major Project\\EvenSem\\Data\\Positive_DataSet.tsv')\n",
    "    return positive_df\n",
    "\n",
    "positive_df = loadDataset()\n",
    "%time features_df = getFeatures(positive_df)\n",
    "\n",
    "\"\"\"\n",
    "def getFeaturesPipeline():\n",
    "    #Load Positive Training Data\n",
    "    positive_df = loadDataset()\n",
    "    \n",
    "    #get features\n",
    "    %time features_df = getFeatures(positive_df)\n",
    "    \n",
    "    return features_df\n",
    "\n",
    "features_df = getFeaturesPipeline() \n",
    "\"\"\""
   ]
  },
  {
   "cell_type": "code",
   "execution_count": 97,
   "metadata": {
    "collapsed": false
   },
   "outputs": [],
   "source": [
    "features_df.to_csv(\"C:\\Users\\JareD\\Major Project\\EvenSem\\Data\\DataSet_Feature_Extraction_2.tsv\", sep = '\\t')\n",
    "#Try fixing the writing of the index into the file"
   ]
  },
  {
   "cell_type": "code",
   "execution_count": 21,
   "metadata": {
    "collapsed": false
   },
   "outputs": [
    {
     "data": {
      "text/plain": [
       "DESC    3408\n",
       "NUM     3097\n",
       "HUM     1950\n",
       "LOC     1903\n",
       "ENTY    1750\n",
       "ABBR       6\n",
       "Name: QuestionType, dtype: int64"
      ]
     },
     "execution_count": 21,
     "metadata": {},
     "output_type": "execute_result"
    }
   ],
   "source": [
    "features_df['QuestionType'].value_counts()"
   ]
  },
  {
   "cell_type": "code",
   "execution_count": 185,
   "metadata": {
    "collapsed": false
   },
   "outputs": [
    {
     "name": "stdout",
     "output_type": "stream",
     "text": [
      "15\n",
      "8\n",
      "QuestionID\n",
      "Question\n",
      "---DocumentID\n",
      "---DocumentTitle\n",
      "SentenceID\n",
      "Sentence\n",
      "Label\n",
      "Type\n"
     ]
    }
   ],
   "source": [
    "print len(features_df.columns)\n",
    "print len(positive_df.columns)\n",
    "for x in positive_df.columns:\n",
    "    if x in features_df.columns:\n",
    "        print x\n",
    "    else:\n",
    "        print \"---\" + x"
   ]
  },
  {
   "cell_type": "code",
   "execution_count": 187,
   "metadata": {
    "collapsed": false
   },
   "outputs": [],
   "source": [
    "features_df = pd.read_table('C:\\Users\\JareD\\Major Project\\EvenSem\\Data\\DataSet_Feature_Extraction_3.tsv')"
   ]
  },
  {
   "cell_type": "code",
   "execution_count": null,
   "metadata": {
    "collapsed": true
   },
   "outputs": [],
   "source": []
  },
  {
   "cell_type": "code",
   "execution_count": 197,
   "metadata": {
    "collapsed": false
   },
   "outputs": [
    {
     "name": "stdout",
     "output_type": "stream",
     "text": [
      "Dev\t: {'MAP': 0.68102999705956979, 'MRR': 0.6858693477390957}\n",
      "Test\t: {'MAP': 0.67893351128797796, 'MRR': 0.6900537027947329}\n",
      "Train\t: {'MAP': 0.65563041377960996, 'MRR': 0.6689795952324529}\n"
     ]
    }
   ],
   "source": [
    "from sklearn.linear_model import LogisticRegression\n",
    "\n",
    "#Train the model on Logistic Regression\n",
    "def buildModel(data_type, features_df):\n",
    "    features = ['UnigramCount', 'BigramCount', 'TrigramCount', 'LemmaCount', 'IDFUnigramCount']\n",
    "    features = features + ['SynonymCount', 'AntonymCount', 'HypernymCount', 'HyponymCount']\n",
    "    features = features + ['LevenshteinEditDistance']\n",
    "    features = features + ['PositiveSimilarity', 'NegativeSimilarity']\n",
    "    \n",
    "    X_Train = features_df[features][features_df['Type'] == 'train']\n",
    "    y_Train = features_df['Label'][features_df['Type'] == 'train']\n",
    "\n",
    "    model = LogisticRegression()\n",
    "    model = model.fit(X_Train, y_Train)\n",
    "\n",
    "    #Test Set\n",
    "    X_Test = features_df[features][features_df['Type'] == data_type]\n",
    "    y_Test = features_df['Label'][features_df['Type'] == data_type]\n",
    "\n",
    "    #y_Test_Predicted = model.predict(X_Test)\n",
    "    y_Test_Predicted_Probabilites = model.predict_proba(X_Test)\n",
    "    return y_Test_Predicted_Probabilites\n",
    "\n",
    "\n",
    "#Calculate MRR\n",
    "def getMRR(df):\n",
    "    question_ids = df['QuestionID'].unique()\n",
    "    rankSum = 0\n",
    "    for qid in question_ids:\n",
    "        proba_list = df[df['QuestionID'] == qid]['Probability'].tolist()\n",
    "        label_list = df[df['QuestionID'] == qid]['Label'].tolist()\n",
    "        lst = zip(proba_list, label_list)\n",
    "        lst = np.array(lst)\n",
    "        lst = lst[np.argsort(lst[:, 0])]\n",
    "        lst = lst[::-1]\n",
    "        for i in range(len(lst)):\n",
    "            if lst[i][1] == 1:\n",
    "                rankSum = rankSum + (1/ float(i + 1))\n",
    "                break\n",
    "                #print qid, i + 1\n",
    "    mean_reciprocal_rank = rankSum/ float(len(question_ids))\n",
    "    #mrr = rankSum/ float(len(question_ids))\n",
    "    return mean_reciprocal_rank\n",
    "\n",
    "#Calculate MAP\n",
    "def getMAP(df):\n",
    "    question_ids = df['QuestionID'].unique()\n",
    "    average_precision_measures = []\n",
    "    for qid in question_ids:\n",
    "        proba_list = df[df['QuestionID'] == qid]['Probability'].tolist()\n",
    "        label_list = df[df['QuestionID'] == qid]['Label'].tolist()\n",
    "        lst = zip(proba_list, label_list)\n",
    "        lst = np.array(lst)\n",
    "        lst = lst[np.argsort(lst[:, 0])]\n",
    "        lst = lst[::-1]\n",
    "        no_of_positives = 0\n",
    "        no_of_documents = 0\n",
    "        precision_measures = []\n",
    "        for i in range(len(lst)):\n",
    "            no_of_documents = no_of_documents + 1\n",
    "            if lst[i][1] == 1:\n",
    "                no_of_positives = no_of_positives + 1\n",
    "                precision = no_of_positives / float(no_of_documents)\n",
    "                precision_measures.append(precision)\n",
    "                #print qid, i + 1\n",
    "        average_precision = np.mean(precision_measures)\n",
    "        #print precision_measures, average_precision\n",
    "        average_precision_measures.append(average_precision)\n",
    "    mean_average_precision = np.mean(average_precision_measures)\n",
    "    #mrr = rankSum/ float(len(question_ids))\n",
    "    return mean_average_precision\n",
    "\n",
    "def evaluateModel(data_type, features_df):\n",
    "    y_Test_Predicted_Probabilites = buildModel(data_type, features_df)\n",
    "    df1 = features_df[features_df['Type'] == data_type]\n",
    "    df1 = df1.reset_index(drop=True)\n",
    "    df1 = df1[['QuestionID', 'SentenceID', 'Label', 'Type']]\n",
    "    df2 = pd.Series(y_Test_Predicted_Probabilites[:, 1], name='Probability')\n",
    "    df = pd.concat([df1, df2], axis = 1)\n",
    "    \"\"\"\n",
    "    print \"Mean Reciprocal Rank : \", getMRR(df)\n",
    "    print \"Mean Average Precision : \", getMAP(df)\n",
    "    \"\"\"\n",
    "    return {'MAP' : getMAP(df), 'MRR' : getMRR(df)}\n",
    "    \n",
    "\n",
    "print \"Dev\\t:\", evaluateModel('dev', features_df)\n",
    "print \"Test\\t:\", evaluateModel('test', features_df)\n",
    "print \"Train\\t:\", evaluateModel('train', features_df)"
   ]
  },
  {
   "cell_type": "code",
   "execution_count": 175,
   "metadata": {
    "collapsed": false
   },
   "outputs": [
    {
     "data": {
      "image/png": "[encoded data removed]",
      "text/plain": [
       "<matplotlib.figure.Figure at 0x271a3128>"
      ]
     },
     "metadata": {},
     "output_type": "display_data"
    }
   ],
   "source": [
    "#Evaluating performance based on question classes\n",
    "def evaluateModel2(features_df):\n",
    "    evaluation_df = pd.DataFrame(columns = ['QuestionType', 'number_of_questions', 'train_MAP', 'test_MAP', 'dev_MAP', 'train_MRR', 'test_MRR', 'dev_MRR'])\n",
    "    question_types = features_df['QuestionType'].unique()\n",
    "    for question_type in question_types:\n",
    "        row = {}\n",
    "        #print question_type\n",
    "        df = features_df[features_df['QuestionType'] == question_type]\n",
    "        row['QuestionType'] = question_type\n",
    "        row['number_of_questions'] = len(df.groupby(['QuestionID', 'Type']).size())\n",
    "        for data_type in ['train', 'test', 'dev']:\n",
    "            result = evaluateModel(data_type, df)\n",
    "            row[data_type + '_MAP'] = result['MAP']\n",
    "            row[data_type + '_MRR'] = result['MRR']\n",
    "        evaluation_df = evaluation_df.append(pd.DataFrame([row]), ignore_index = True)\n",
    "    return evaluation_df \n",
    "\n",
    "def plotEvaluation():\n",
    "    evaluation_df = evaluateModel2(features_df)\n",
    "    plot_df = evaluation_df[['QuestionType', 'train_MAP', 'test_MAP', 'dev_MAP', 'train_MRR', 'test_MRR', 'dev_MRR']]\n",
    "    #plot_df = evaluation_df[['QuestionType', 'dev_MAP']]\n",
    "    plot = plot_df.plot(kind='bar', figsize=(18, 10))\n",
    "    plot.set_title(\"Plot of Question Type vs. Performance\")\n",
    "    x_tick_labels = plot_df['QuestionType']\n",
    "    x_tick_labels = [str(x) + \"\\n[\" + str(int(evaluation_df[evaluation_df['QuestionType'] == x]['number_of_questions'])) + \"]\" for x in x_tick_labels]\n",
    "    plot.set_xticklabels(x_tick_labels, rotation = 0)\n",
    "    plt.xlabel('Question Types')\n",
    "    plt.ylabel('MAP and MRR scores')\n",
    "    plt.legend(loc='upper center', bbox_to_anchor=(0.5, 1.05), ncol=3, fancybox=True, shadow=True)\n",
    "    \n",
    "plotEvaluation()"
   ]
  },
  {
   "cell_type": "code",
   "execution_count": 142,
   "metadata": {
    "collapsed": false
   },
   "outputs": [
    {
     "data": {
      "text/html": [
       "<div>\n",
       "<table border=\"1\" class=\"dataframe\">\n",
       "  <thead>\n",
       "    <tr style=\"text-align: right;\">\n",
       "      <th></th>\n",
       "      <th>QuestionType</th>\n",
       "      <th>dev_MAP</th>\n",
       "      <th>dev_MRR</th>\n",
       "      <th>number_of_questions</th>\n",
       "      <th>test_MAP</th>\n",
       "      <th>test_MRR</th>\n",
       "      <th>train_MAP</th>\n",
       "      <th>train_MRR</th>\n",
       "    </tr>\n",
       "  </thead>\n",
       "  <tbody>\n",
       "    <tr>\n",
       "      <th>0</th>\n",
       "      <td>LOC</td>\n",
       "      <td>0.769826</td>\n",
       "      <td>0.688373</td>\n",
       "      <td>207</td>\n",
       "      <td>0.732415</td>\n",
       "      <td>0.704304</td>\n",
       "      <td>0.733390</td>\n",
       "      <td>0.663612</td>\n",
       "    </tr>\n",
       "    <tr>\n",
       "      <th>1</th>\n",
       "      <td>DESC</td>\n",
       "      <td>0.590932</td>\n",
       "      <td>0.543993</td>\n",
       "      <td>378</td>\n",
       "      <td>0.639210</td>\n",
       "      <td>0.549618</td>\n",
       "      <td>0.634279</td>\n",
       "      <td>0.571906</td>\n",
       "    </tr>\n",
       "    <tr>\n",
       "      <th>2</th>\n",
       "      <td>NUM</td>\n",
       "      <td>0.650050</td>\n",
       "      <td>0.628046</td>\n",
       "      <td>259</td>\n",
       "      <td>0.641807</td>\n",
       "      <td>0.618995</td>\n",
       "      <td>0.667713</td>\n",
       "      <td>0.639143</td>\n",
       "    </tr>\n",
       "    <tr>\n",
       "      <th>3</th>\n",
       "      <td>ENTY</td>\n",
       "      <td>0.639167</td>\n",
       "      <td>0.632540</td>\n",
       "      <td>183</td>\n",
       "      <td>0.563700</td>\n",
       "      <td>0.515404</td>\n",
       "      <td>0.678337</td>\n",
       "      <td>0.628723</td>\n",
       "    </tr>\n",
       "    <tr>\n",
       "      <th>4</th>\n",
       "      <td>HUM</td>\n",
       "      <td>0.655580</td>\n",
       "      <td>0.634233</td>\n",
       "      <td>212</td>\n",
       "      <td>0.713981</td>\n",
       "      <td>0.667560</td>\n",
       "      <td>0.623217</td>\n",
       "      <td>0.594233</td>\n",
       "    </tr>\n",
       "  </tbody>\n",
       "</table>\n",
       "</div>"
      ],
      "text/plain": [
       "  QuestionType   dev_MAP   dev_MRR  number_of_questions  test_MAP  test_MRR  \\\n",
       "0          LOC  0.769826  0.688373                  207  0.732415  0.704304   \n",
       "1         DESC  0.590932  0.543993                  378  0.639210  0.549618   \n",
       "2          NUM  0.650050  0.628046                  259  0.641807  0.618995   \n",
       "3         ENTY  0.639167  0.632540                  183  0.563700  0.515404   \n",
       "4          HUM  0.655580  0.634233                  212  0.713981  0.667560   \n",
       "\n",
       "   train_MAP  train_MRR  \n",
       "0   0.733390   0.663612  \n",
       "1   0.634279   0.571906  \n",
       "2   0.667713   0.639143  \n",
       "3   0.678337   0.628723  \n",
       "4   0.623217   0.594233  "
      ]
     },
     "execution_count": 142,
     "metadata": {},
     "output_type": "execute_result"
    }
   ],
   "source": [
    "evaluation_df = evaluateModel2(features_df)\n",
    "evaluation_df"
   ]
  },
  {
   "cell_type": "code",
   "execution_count": 185,
   "metadata": {
    "collapsed": false
   },
   "outputs": [
    {
     "name": "stderr",
     "output_type": "stream",
     "text": [
      "WARNING:lda:all zero column in document-term matrix found\n",
      "WARNING:lda:all zero column in document-term matrix found\n",
      "WARNING:lda:all zero column in document-term matrix found\n",
      "WARNING:lda:all zero column in document-term matrix found\n",
      "WARNING:lda:all zero column in document-term matrix found\n",
      "WARNING:lda:all zero column in document-term matrix found\n",
      "WARNING:lda:all zero row in document-term matrix found\n",
      "WARNING:lda:all zero column in document-term matrix found\n",
      "WARNING:lda:all zero column in document-term matrix found\n",
      "WARNING:lda:all zero column in document-term matrix found\n",
      "WARNING:lda:all zero column in document-term matrix found\n"
     ]
    },
    {
     "name": "stdout",
     "output_type": "stream",
     "text": [
      "0.500818930392 measuring spoons\n",
      "0.500818930392 this tablespoon has a capacity of about 15 ml\n",
      "0.497452231808 in the us and parts of canada a tablespoon is the largest type of spoon used for eating from a bowl\n",
      "0.475728756198 a partly submerged glacier cave on perito moreno glacier\n",
      "0.382735988058 in the uk europe and most commonwealth countries a tablespoon is a type of large spoon usually used for serving\n"
     ]
    }
   ],
   "source": [
    "import pickle\n",
    "from sklearn.metrics.pairwise import cosine_similarity\n",
    "import numpy as np\n",
    "\n",
    "def getTopicVector(sentence, model, vectorizer):\n",
    "    #model, vocabulary = buildLDA()\n",
    "    #vectorizer = CountVectorizer(analyzer='word', vocabulary = vocabulary)\n",
    "    #sentence = sentence.decode('utf-8','ignore').encode(\"utf-8\")\n",
    "    #print sentence\n",
    "    X = vectorizer.fit_transform([sentence])\n",
    "    topic_vector = model.transform(X)\n",
    "    return topic_vector\n",
    "\n",
    "def normalizeVector(vector):\n",
    "    vector_magnitude = math.sqrt(sum([x * x for x in vector]))\n",
    "    vector = [x/vector_magnitude for x in vector]\n",
    "    return vector\n",
    "\n",
    "def getNextType(current_question_type):\n",
    "    return 'DESC'\n",
    "    \n",
    "def predict_next_sentence(current_question_type, candidate_sentences):\n",
    "    lda_model = pickle.load(open(\"C:\\Users\\JareD\\Major Project\\EvenSem\\Models\\LDA\\LDA_Model.pkl\", \"rb\"))\n",
    "    vectorizer = pickle.load(open(\"C:\\Users\\JareD\\Major Project\\EvenSem\\Models\\LDA\\CountVectorizer.pkl\", \"rb\"))\n",
    "    average_topic_vectors = pickle.load(open(\"C:\\Users\\JareD\\Major Project\\EvenSem\\Models\\LDA\\Average_Topic_Vectors_2.pkl\", \"rb\"))\n",
    "    next_question_type = getNextType(current_question_type)\n",
    "    cosine_similarities = []\n",
    "    for candidate_sentence in candidate_sentences:\n",
    "        topic_vector = getTopicVector(candidate_sentence, lda_model, vectorizer)\n",
    "        topic_vector = normalizeVector(topic_vector[0])\n",
    "        positive_average_vector = np.array(average_topic_vectors[next_question_type][1]).reshape(1, -1)\n",
    "        topic_vector = np.array(topic_vector).reshape(1, -1)\n",
    "        positive_similarity = cosine_similarity(positive_average_vector, topic_vector)\n",
    "        cosine_similarities.append(positive_similarity[0][0])\n",
    "    \n",
    "    candidate_sentences = zip(candidate_sentences, cosine_similarities)\n",
    "    return candidate_sentences\n",
    "\n",
    "candidate_sentences = features_df.head(10)\n",
    "candidate_sentences = candidate_sentences['Sentence']\n",
    "ranked_prediction = np.array(predict_next_sentence('ENTY', candidate_sentences))\n",
    "ranked_prediction = ranked_prediction[np.argsort(ranked_prediction[:, 1])]\n",
    "ranked_prediction = ranked_prediction[::-1]  \n",
    "for i in ranked_prediction[:5]:\n",
    "    print i[1], i[0]\n"
   ]
  },
  {
   "cell_type": "code",
   "execution_count": 180,
   "metadata": {
    "collapsed": false
   },
   "outputs": [
    {
     "name": "stdout",
     "output_type": "stream",
     "text": [
      "Hello my name ashish cars but i dont know 10000 anything\n"
     ]
    }
   ],
   "source": [
    "inputString = \"Hello my name's ashish's cars'     but -i don't know 100-00 anything\"\n",
    "inputString = ' '.join(inputString.replace(\"'s\", '').split())\n",
    "inputString = re.sub('[%s]' % re.escape(string.punctuation), '', inputString)\n",
    "print re.sub( '\\s+', ' ', inputString).strip()\n"
   ]
  },
  {
   "cell_type": "code",
   "execution_count": 191,
   "metadata": {
    "collapsed": false
   },
   "outputs": [
    {
     "name": "stdout",
     "output_type": "stream",
     "text": [
      "str\n"
     ]
    }
   ],
   "source": [
    "x = 0\n",
    "if True:\n",
    "    x = \"str\"\n",
    "print x"
   ]
  },
  {
   "cell_type": "code",
   "execution_count": 194,
   "metadata": {
    "collapsed": false
   },
   "outputs": [
    {
     "data": {
      "text/plain": [
       "[(1, 3, 5), (2, 4, 6)]"
      ]
     },
     "execution_count": 194,
     "metadata": {},
     "output_type": "execute_result"
    }
   ],
   "source": [
    "zip([1, 2], [3, 4], [5, 6])"
   ]
  },
  {
   "cell_type": "code",
   "execution_count": 195,
   "metadata": {
    "collapsed": false
   },
   "outputs": [
    {
     "data": {
      "image/png": "[encoded data removed]",
      "text/plain": [
       "<matplotlib.figure.Figure at 0x3ff4f2e8>"
      ]
     },
     "metadata": {},
     "output_type": "display_data"
    },
    {
     "name": "stdout",
     "output_type": "stream",
     "text": [
      "  QuestionType   dev_MAP   dev_MRR  number_of_questions  test_MAP  test_MRR  \\\n",
      "0         DESC  0.585377  0.584083                  378  0.639069  0.659858   \n",
      "1          NUM  0.650050  0.670290                  259  0.641807  0.648404   \n",
      "2         ENTY  0.729167  0.729167                  183  0.562273  0.568437   \n",
      "3          LOC  0.769826  0.766667                  207  0.732415  0.750510   \n",
      "4          HUM  0.655580  0.655580                  212  0.713981  0.713400   \n",
      "\n",
      "   train_MAP  train_MRR  \n",
      "0   0.634874   0.659581  \n",
      "1   0.667713   0.669459  \n",
      "2   0.670528   0.687231  \n",
      "3   0.733390   0.745532  \n",
      "4   0.623217   0.635530  \n"
     ]
    }
   ],
   "source": [
    "import string, re\n",
    "import nltk\n",
    "import math\n",
    "from sets import Set\n",
    "from sklearn.linear_model import LogisticRegression\n",
    "import time\n",
    "from sklearn.externals import joblib\n",
    "import gensim\n",
    "import operator\n",
    "import time\n",
    "import pandas as pd\n",
    "import matplotlib.pyplot as plt\n",
    "import numpy as np\n",
    "import nltk\n",
    "import time\n",
    "from nltk.corpus import wordnet as wn\n",
    "import lda\n",
    "import lda.datasets\n",
    "from sklearn.metrics.pairwise import linear_kernel\n",
    "from sklearn.metrics.pairwise import cosine_similarity\n",
    "from sklearn.feature_extraction.text import CountVectorizer\n",
    "import math\n",
    "import warnings\n",
    "import pickle\n",
    "from sklearn.preprocessing import Imputer\n",
    "\n",
    "\n",
    "#%matplotlib inline\n",
    "plt.style.use('ggplot')\n",
    "from sklearn.linear_model import LogisticRegression\n",
    "\n",
    "#Train the model on Logistic Regression\n",
    "def buildModel(data_type, features_df, flag):\n",
    "    features = ['UnigramCount', 'BigramCount', 'TrigramCount', 'LemmaCount', 'IDFUnigramCount']\n",
    "    features = features + ['SynonymCount', 'AntonymCount', 'HypernymCount', 'HyponymCount']\n",
    "    features = features + ['LevenshteinEditDistance']\n",
    "    if flag == 1:\n",
    "        features = features + ['PositiveSimilarity', 'NegativeSimilarity']\n",
    "    \n",
    "    X_Train = features_df[features][features_df['Type'] == 'train']\n",
    "    y_Train = features_df['Label'][features_df['Type'] == 'train']\n",
    "\n",
    "    model = LogisticRegression()\n",
    "    model = model.fit(X_Train, y_Train)\n",
    "\n",
    "    #Test Set\n",
    "    X_Test = features_df[features][features_df['Type'] == data_type]\n",
    "    y_Test = features_df['Label'][features_df['Type'] == data_type]\n",
    "\n",
    "    #y_Test_Predicted = model.predict(X_Test)\n",
    "    y_Test_Predicted_Probabilites = model.predict_proba(X_Test)\n",
    "    return y_Test_Predicted_Probabilites\n",
    "\n",
    "\n",
    "#Calculate MRR\n",
    "def getMRR(df):\n",
    "    question_ids = df['QuestionID'].unique()\n",
    "    rankSum = 0\n",
    "    for qid in question_ids:\n",
    "        proba_list = df[df['QuestionID'] == qid]['Probability'].tolist()\n",
    "        label_list = df[df['QuestionID'] == qid]['Label'].tolist()\n",
    "        lst = zip(proba_list, label_list)\n",
    "        lst = np.array(lst)\n",
    "        lst = lst[np.argsort(lst[:, 0])]\n",
    "        lst = lst[::-1]\n",
    "        for i in range(len(lst)):\n",
    "            if lst[i][1] == 1:\n",
    "                rankSum = rankSum + (1/ float(i + 1))\n",
    "                break\n",
    "                #print qid, i + 1\n",
    "    mean_reciprocal_rank = rankSum/ float(len(question_ids))\n",
    "    #mrr = rankSum/ float(len(question_ids))\n",
    "    return mean_reciprocal_rank\n",
    "\n",
    "#Calculate MAP\n",
    "def getMAP(df):\n",
    "    question_ids = df['QuestionID'].unique()\n",
    "    average_precision_measures = []\n",
    "    for qid in question_ids:\n",
    "        proba_list = df[df['QuestionID'] == qid]['Probability'].tolist()\n",
    "        label_list = df[df['QuestionID'] == qid]['Label'].tolist()\n",
    "        lst = zip(proba_list, label_list)\n",
    "        lst = np.array(lst)\n",
    "        lst = lst[np.argsort(lst[:, 0])]\n",
    "        lst = lst[::-1]\n",
    "        no_of_positives = 0\n",
    "        no_of_documents = 0\n",
    "        precision_measures = []\n",
    "        for i in range(len(lst)):\n",
    "            no_of_documents = no_of_documents + 1\n",
    "            if lst[i][1] == 1:\n",
    "                no_of_positives = no_of_positives + 1\n",
    "                precision = no_of_positives / float(no_of_documents)\n",
    "                precision_measures.append(precision)\n",
    "                #print qid, i + 1\n",
    "        average_precision = np.mean(precision_measures)\n",
    "        #print precision_measures, average_precision\n",
    "        average_precision_measures.append(average_precision)\n",
    "    mean_average_precision = np.mean(average_precision_measures)\n",
    "    #mrr = rankSum/ float(len(question_ids))\n",
    "    return mean_average_precision\n",
    "\n",
    "def evaluateModel(data_type, features_df, question_type):\n",
    "    flag = 1\n",
    "    if question_type == 'ENTY':\n",
    "        flag = 0\n",
    "    y_Test_Predicted_Probabilites = buildModel(data_type, features_df, flag)\n",
    "    df1 = features_df[features_df['Type'] == data_type]\n",
    "    df1 = df1.reset_index(drop=True)\n",
    "    df1 = df1[['QuestionID', 'SentenceID', 'Label', 'Type']]\n",
    "    df2 = pd.Series(y_Test_Predicted_Probabilites[:, 1], name='Probability')\n",
    "    df = pd.concat([df1, df2], axis = 1)\n",
    "    \"\"\"\n",
    "    print \"Mean Reciprocal Rank : \", getMRR(df)\n",
    "    print \"Mean Average Precision : \", getMAP(df)\n",
    "    \"\"\"\n",
    "    return {'MAP' : getMAP(df), 'MRR' : getMRR(df)}\n",
    "    \n",
    "\n",
    "\"\"\"print \"Dev\\t:\", evaluateModel('dev', features_df)\n",
    "print \"Test\\t:\", evaluateModel('test', features_df)\n",
    "print \"Train\\t:\", evaluateModel('train', features_df)\"\"\"\n",
    "\n",
    "#Evaluating performance based on question classes\n",
    "def evaluateModel2(features_df):\n",
    "    evaluation_df = pd.DataFrame(columns = ['QuestionType', 'number_of_questions', 'train_MAP', 'test_MAP', 'dev_MAP', 'train_MRR', 'test_MRR', 'dev_MRR'])\n",
    "    question_types = features_df['QuestionType'].unique()\n",
    "    for question_type in question_types:\n",
    "        row = {}\n",
    "        #print question_type\n",
    "        df = features_df[features_df['QuestionType'] == question_type]\n",
    "        row['QuestionType'] = question_type\n",
    "        row['number_of_questions'] = len(df.groupby(['QuestionID', 'Type']).size())\n",
    "        for data_type in ['train', 'test', 'dev']:\n",
    "            result = evaluateModel(data_type, df, question_type)\n",
    "            row[data_type + '_MAP'] = result['MAP']\n",
    "            row[data_type + '_MRR'] = result['MRR']\n",
    "        evaluation_df = evaluation_df.append(pd.DataFrame([row]), ignore_index = True)\n",
    "    return evaluation_df \n",
    "\n",
    "def plotEvaluation():\n",
    "    features_df = pd.read_table('C:\\Users\\JareD\\Major Project\\EvenSem\\Data\\DataSet_Feature_Extraction_3.tsv')\n",
    "    evaluation_df = evaluateModel2(features_df)\n",
    "    plot_df = evaluation_df[['QuestionType', 'train_MAP', 'test_MAP', 'dev_MAP', 'train_MRR', 'test_MRR', 'dev_MRR']]\n",
    "    #plot_df = evaluation_df[['QuestionType', 'dev_MAP']]\n",
    "    plot = plot_df.plot(kind='bar', figsize=(18, 10))\n",
    "    plot.set_title(\"Plot of Question Type vs. Performance\")\n",
    "    x_tick_labels = plot_df['QuestionType']\n",
    "    x_tick_labels = [str(x) + \"\\n[\" + str(int(evaluation_df[evaluation_df['QuestionType'] == x]['number_of_questions'])) + \"]\" for x in x_tick_labels]\n",
    "    plot.set_xticklabels(x_tick_labels, rotation = 0)\n",
    "    plt.xlabel('Question Types')\n",
    "    plt.ylabel('MAP and MRR scores')\n",
    "    plt.legend(loc='upper center', bbox_to_anchor=(0.5, 1.05), ncol=3, fancybox=True, shadow=True)\n",
    "    plt.show()\n",
    "    print evaluation_df\n",
    "\n",
    "\n",
    "plotEvaluation()"
   ]
  },
  {
   "cell_type": "code",
   "execution_count": 196,
   "metadata": {
    "collapsed": false
   },
   "outputs": [
    {
     "data": {
      "text/html": [
       "<div>\n",
       "<table border=\"1\" class=\"dataframe\">\n",
       "  <thead>\n",
       "    <tr style=\"text-align: right;\">\n",
       "      <th></th>\n",
       "      <th>QuestionType</th>\n",
       "      <th>dev_MAP</th>\n",
       "      <th>dev_MRR</th>\n",
       "      <th>number_of_questions</th>\n",
       "      <th>test_MAP</th>\n",
       "      <th>test_MRR</th>\n",
       "      <th>train_MAP</th>\n",
       "      <th>train_MRR</th>\n",
       "    </tr>\n",
       "  </thead>\n",
       "  <tbody>\n",
       "    <tr>\n",
       "      <th>0</th>\n",
       "      <td>DESC</td>\n",
       "      <td>0.585377</td>\n",
       "      <td>0.584083</td>\n",
       "      <td>378</td>\n",
       "      <td>0.639069</td>\n",
       "      <td>0.659858</td>\n",
       "      <td>0.634874</td>\n",
       "      <td>0.659581</td>\n",
       "    </tr>\n",
       "    <tr>\n",
       "      <th>1</th>\n",
       "      <td>NUM</td>\n",
       "      <td>0.650050</td>\n",
       "      <td>0.670290</td>\n",
       "      <td>259</td>\n",
       "      <td>0.641807</td>\n",
       "      <td>0.648404</td>\n",
       "      <td>0.667713</td>\n",
       "      <td>0.669459</td>\n",
       "    </tr>\n",
       "    <tr>\n",
       "      <th>2</th>\n",
       "      <td>ENTY</td>\n",
       "      <td>0.729167</td>\n",
       "      <td>0.729167</td>\n",
       "      <td>183</td>\n",
       "      <td>0.562273</td>\n",
       "      <td>0.568437</td>\n",
       "      <td>0.670528</td>\n",
       "      <td>0.687231</td>\n",
       "    </tr>\n",
       "    <tr>\n",
       "      <th>3</th>\n",
       "      <td>LOC</td>\n",
       "      <td>0.769826</td>\n",
       "      <td>0.766667</td>\n",
       "      <td>207</td>\n",
       "      <td>0.732415</td>\n",
       "      <td>0.750510</td>\n",
       "      <td>0.733390</td>\n",
       "      <td>0.745532</td>\n",
       "    </tr>\n",
       "    <tr>\n",
       "      <th>4</th>\n",
       "      <td>HUM</td>\n",
       "      <td>0.655580</td>\n",
       "      <td>0.655580</td>\n",
       "      <td>212</td>\n",
       "      <td>0.713981</td>\n",
       "      <td>0.713400</td>\n",
       "      <td>0.623217</td>\n",
       "      <td>0.635530</td>\n",
       "    </tr>\n",
       "  </tbody>\n",
       "</table>\n",
       "</div>"
      ],
      "text/plain": [
       "  QuestionType   dev_MAP   dev_MRR  number_of_questions  test_MAP  test_MRR  \\\n",
       "0         DESC  0.585377  0.584083                  378  0.639069  0.659858   \n",
       "1          NUM  0.650050  0.670290                  259  0.641807  0.648404   \n",
       "2         ENTY  0.729167  0.729167                  183  0.562273  0.568437   \n",
       "3          LOC  0.769826  0.766667                  207  0.732415  0.750510   \n",
       "4          HUM  0.655580  0.655580                  212  0.713981  0.713400   \n",
       "\n",
       "   train_MAP  train_MRR  \n",
       "0   0.634874   0.659581  \n",
       "1   0.667713   0.669459  \n",
       "2   0.670528   0.687231  \n",
       "3   0.733390   0.745532  \n",
       "4   0.623217   0.635530  "
      ]
     },
     "execution_count": 196,
     "metadata": {},
     "output_type": "execute_result"
    }
   ],
   "source": [
    "evaluation_df = evaluateModel2(features_df)\n",
    "evaluation_df"
   ]
  },
  {
   "cell_type": "code",
   "execution_count": null,
   "metadata": {
    "collapsed": true
   },
   "outputs": [],
   "source": []
  }
 ],
 "metadata": {
  "kernelspec": {
   "display_name": "Python 2",
   "language": "python",
   "name": "python2"
  },
  "language_info": {
   "codemirror_mode": {
    "name": "ipython",
    "version": 2
   },
   "file_extension": ".py",
   "mimetype": "text/x-python",
   "name": "python",
   "nbconvert_exporter": "python",
   "pygments_lexer": "ipython2",
   "version": "2.7.11"
  }
 },
 "nbformat": 4,
 "nbformat_minor": 0
}
