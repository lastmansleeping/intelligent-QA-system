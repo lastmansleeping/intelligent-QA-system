{
 "cells": [
  {
   "cell_type": "code",
   "execution_count": 1,
   "metadata": {
    "collapsed": false
   },
   "outputs": [],
   "source": [
    "import wikipedia"
   ]
  },
  {
   "cell_type": "code",
   "execution_count": 10,
   "metadata": {
    "collapsed": false
   },
   "outputs": [
    {
     "name": "stdout",
     "output_type": "stream",
     "text": [
      "Wikipedia (/wkpidi/ or /wkipidi/ WIK-i-PEE-dee-) is a free-access, free-content Internet encyclopedia, supported and hosted by the non-profit Wikimedia Foundation. Those who can access the site can edit most of its articles. Wikipedia is ranked among the ten most popular websites, and constitutes the Internet's largest and most popular general reference work.\n",
      "Jimmy Wales and Larry Sanger launched Wikipedia on January 15, 2001. Sanger coined its name, a portmanteau of wiki and encyclopedia. Initially only in English, Wikipedia quickly became multilingual as it developed similar versions in other languages, which differ in content and in editing practices. The English Wikipedia is now one of 291 Wikipedia editions and is the largest with 5,118,564 articles (having reached 5,000,000 articles in November 2015). There is a grand total, including all Wikipedias, of over 38 million articles in over 250 different languages. As of February 2014, it had 18 billion page views and nearly 500 million unique visitors each month.\n",
      "A peer review of 42 science articles found in both Encyclopdia Britannica and Wikipedia was published in Nature in 2005, and found that Wikipedia's level of accuracy approached Encyclopedia Britannica's. Criticisms of Wikipedia include claims that it exhibits systemic bias, presents a mixture of \"truths, half truths, and some falsehoods\", and that in controversial topics it is subject to manipulation and spin.\n"
     ]
    }
   ],
   "source": [
    "x = wikipedia.summary(\"Wikipedia\")\n",
    "print x.encode('ascii', 'ignore')"
   ]
  },
  {
   "cell_type": "code",
   "execution_count": 1,
   "metadata": {
    "collapsed": true
   },
   "outputs": [],
   "source": [
    "import pandas as pd"
   ]
  },
  {
   "cell_type": "code",
   "execution_count": 16,
   "metadata": {
    "collapsed": true
   },
   "outputs": [],
   "source": [
    "dataset = pd.read_table('C:\\Users\\JareD\\Major Project\\EvenSem\\Data\\DataSet.tsv')\n",
    "positive_df = pd.read_table('C:\\Users\\JareD\\Major Project\\EvenSem\\Data\\Positive_DataSet.tsv')"
   ]
  },
  {
   "cell_type": "code",
   "execution_count": 36,
   "metadata": {
    "collapsed": false
   },
   "outputs": [
    {
     "data": {
      "text/plain": [
       "Unnamed: 0       29196\n",
       "QuestionID       29196\n",
       "Question         29196\n",
       "DocumentID       29196\n",
       "DocumentTitle    29196\n",
       "SentenceID       29196\n",
       "Sentence         29196\n",
       "Label            29196\n",
       "Type             29196\n",
       "dtype: int64"
      ]
     },
     "execution_count": 36,
     "metadata": {},
     "output_type": "execute_result"
    }
   ],
   "source": [
    "dataset.count()"
   ]
  },
  {
   "cell_type": "code",
   "execution_count": 17,
   "metadata": {
    "collapsed": true
   },
   "outputs": [],
   "source": [
    "documents_df = dataset[['DocumentID', 'SentenceID', 'Sentence']]"
   ]
  },
  {
   "cell_type": "code",
   "execution_count": 45,
   "metadata": {
    "collapsed": false
   },
   "outputs": [
    {
     "data": {
      "text/html": [
       "<div>\n",
       "<table border=\"1\" class=\"dataframe\">\n",
       "  <thead>\n",
       "    <tr style=\"text-align: right;\">\n",
       "      <th></th>\n",
       "      <th>Unnamed: 0</th>\n",
       "      <th>QuestionID</th>\n",
       "      <th>Question</th>\n",
       "      <th>DocumentID</th>\n",
       "      <th>DocumentTitle</th>\n",
       "      <th>SentenceID</th>\n",
       "      <th>Sentence</th>\n",
       "      <th>Label</th>\n",
       "      <th>Type</th>\n",
       "    </tr>\n",
       "  </thead>\n",
       "  <tbody>\n",
       "    <tr>\n",
       "      <th>0</th>\n",
       "      <td>0</td>\n",
       "      <td>Q1</td>\n",
       "      <td>how are glacier caves formed?</td>\n",
       "      <td>D1</td>\n",
       "      <td>Glacier cave</td>\n",
       "      <td>D1-0</td>\n",
       "      <td>A partly submerged glacier cave on Perito More...</td>\n",
       "      <td>0</td>\n",
       "      <td>train</td>\n",
       "    </tr>\n",
       "    <tr>\n",
       "      <th>1</th>\n",
       "      <td>1</td>\n",
       "      <td>Q1</td>\n",
       "      <td>how are glacier caves formed?</td>\n",
       "      <td>D1</td>\n",
       "      <td>Glacier cave</td>\n",
       "      <td>D1-1</td>\n",
       "      <td>The ice facade is approximately 60 m high</td>\n",
       "      <td>0</td>\n",
       "      <td>train</td>\n",
       "    </tr>\n",
       "    <tr>\n",
       "      <th>2</th>\n",
       "      <td>2</td>\n",
       "      <td>Q1</td>\n",
       "      <td>how are glacier caves formed?</td>\n",
       "      <td>D1</td>\n",
       "      <td>Glacier cave</td>\n",
       "      <td>D1-2</td>\n",
       "      <td>Ice formations in the Titlis glacier cave</td>\n",
       "      <td>0</td>\n",
       "      <td>train</td>\n",
       "    </tr>\n",
       "    <tr>\n",
       "      <th>3</th>\n",
       "      <td>3</td>\n",
       "      <td>Q1</td>\n",
       "      <td>how are glacier caves formed?</td>\n",
       "      <td>D1</td>\n",
       "      <td>Glacier cave</td>\n",
       "      <td>D1-3</td>\n",
       "      <td>A glacier cave is a cave formed within the ice...</td>\n",
       "      <td>1</td>\n",
       "      <td>train</td>\n",
       "    </tr>\n",
       "    <tr>\n",
       "      <th>4</th>\n",
       "      <td>4</td>\n",
       "      <td>Q1</td>\n",
       "      <td>how are glacier caves formed?</td>\n",
       "      <td>D1</td>\n",
       "      <td>Glacier cave</td>\n",
       "      <td>D1-4</td>\n",
       "      <td>Glacier caves are often called ice caves , but...</td>\n",
       "      <td>0</td>\n",
       "      <td>train</td>\n",
       "    </tr>\n",
       "    <tr>\n",
       "      <th>5</th>\n",
       "      <td>5</td>\n",
       "      <td>Q2</td>\n",
       "      <td>How are the directions of the velocity and for...</td>\n",
       "      <td>D2</td>\n",
       "      <td>Circular motion</td>\n",
       "      <td>D2-0</td>\n",
       "      <td>In physics , circular motion is a movement of ...</td>\n",
       "      <td>0</td>\n",
       "      <td>train</td>\n",
       "    </tr>\n",
       "    <tr>\n",
       "      <th>6</th>\n",
       "      <td>6</td>\n",
       "      <td>Q2</td>\n",
       "      <td>How are the directions of the velocity and for...</td>\n",
       "      <td>D2</td>\n",
       "      <td>Circular motion</td>\n",
       "      <td>D2-1</td>\n",
       "      <td>It can be uniform, with constant angular rate ...</td>\n",
       "      <td>0</td>\n",
       "      <td>train</td>\n",
       "    </tr>\n",
       "    <tr>\n",
       "      <th>7</th>\n",
       "      <td>7</td>\n",
       "      <td>Q2</td>\n",
       "      <td>How are the directions of the velocity and for...</td>\n",
       "      <td>D2</td>\n",
       "      <td>Circular motion</td>\n",
       "      <td>D2-2</td>\n",
       "      <td>The rotation around a fixed axis of a three-di...</td>\n",
       "      <td>0</td>\n",
       "      <td>train</td>\n",
       "    </tr>\n",
       "    <tr>\n",
       "      <th>8</th>\n",
       "      <td>8</td>\n",
       "      <td>Q2</td>\n",
       "      <td>How are the directions of the velocity and for...</td>\n",
       "      <td>D2</td>\n",
       "      <td>Circular motion</td>\n",
       "      <td>D2-3</td>\n",
       "      <td>The equations of motion describe the movement ...</td>\n",
       "      <td>0</td>\n",
       "      <td>train</td>\n",
       "    </tr>\n",
       "    <tr>\n",
       "      <th>9</th>\n",
       "      <td>9</td>\n",
       "      <td>Q2</td>\n",
       "      <td>How are the directions of the velocity and for...</td>\n",
       "      <td>D2</td>\n",
       "      <td>Circular motion</td>\n",
       "      <td>D2-4</td>\n",
       "      <td>Examples of circular motion include: an artifi...</td>\n",
       "      <td>0</td>\n",
       "      <td>train</td>\n",
       "    </tr>\n",
       "    <tr>\n",
       "      <th>10</th>\n",
       "      <td>10</td>\n",
       "      <td>Q2</td>\n",
       "      <td>How are the directions of the velocity and for...</td>\n",
       "      <td>D2</td>\n",
       "      <td>Circular motion</td>\n",
       "      <td>D2-5</td>\n",
       "      <td>Since the object's velocity vector is constant...</td>\n",
       "      <td>0</td>\n",
       "      <td>train</td>\n",
       "    </tr>\n",
       "    <tr>\n",
       "      <th>11</th>\n",
       "      <td>11</td>\n",
       "      <td>Q2</td>\n",
       "      <td>How are the directions of the velocity and for...</td>\n",
       "      <td>D2</td>\n",
       "      <td>Circular motion</td>\n",
       "      <td>D2-6</td>\n",
       "      <td>Without this acceleration, the object would mo...</td>\n",
       "      <td>0</td>\n",
       "      <td>train</td>\n",
       "    </tr>\n",
       "    <tr>\n",
       "      <th>12</th>\n",
       "      <td>12</td>\n",
       "      <td>Q5</td>\n",
       "      <td>how did apollo creed die</td>\n",
       "      <td>D5</td>\n",
       "      <td>Apollo Creed</td>\n",
       "      <td>D5-0</td>\n",
       "      <td>Apollo Creed is a fictional character from the...</td>\n",
       "      <td>0</td>\n",
       "      <td>train</td>\n",
       "    </tr>\n",
       "    <tr>\n",
       "      <th>13</th>\n",
       "      <td>13</td>\n",
       "      <td>Q5</td>\n",
       "      <td>how did apollo creed die</td>\n",
       "      <td>D5</td>\n",
       "      <td>Apollo Creed</td>\n",
       "      <td>D5-1</td>\n",
       "      <td>He was played by Carl Weathers .</td>\n",
       "      <td>0</td>\n",
       "      <td>train</td>\n",
       "    </tr>\n",
       "    <tr>\n",
       "      <th>14</th>\n",
       "      <td>14</td>\n",
       "      <td>Q5</td>\n",
       "      <td>how did apollo creed die</td>\n",
       "      <td>D5</td>\n",
       "      <td>Apollo Creed</td>\n",
       "      <td>D5-2</td>\n",
       "      <td>Creed had multiple nicknames, including The Ma...</td>\n",
       "      <td>0</td>\n",
       "      <td>train</td>\n",
       "    </tr>\n",
       "  </tbody>\n",
       "</table>\n",
       "</div>"
      ],
      "text/plain": [
       "    Unnamed: 0 QuestionID                                           Question  \\\n",
       "0            0         Q1                      how are glacier caves formed?   \n",
       "1            1         Q1                      how are glacier caves formed?   \n",
       "2            2         Q1                      how are glacier caves formed?   \n",
       "3            3         Q1                      how are glacier caves formed?   \n",
       "4            4         Q1                      how are glacier caves formed?   \n",
       "5            5         Q2  How are the directions of the velocity and for...   \n",
       "6            6         Q2  How are the directions of the velocity and for...   \n",
       "7            7         Q2  How are the directions of the velocity and for...   \n",
       "8            8         Q2  How are the directions of the velocity and for...   \n",
       "9            9         Q2  How are the directions of the velocity and for...   \n",
       "10          10         Q2  How are the directions of the velocity and for...   \n",
       "11          11         Q2  How are the directions of the velocity and for...   \n",
       "12          12         Q5                           how did apollo creed die   \n",
       "13          13         Q5                           how did apollo creed die   \n",
       "14          14         Q5                           how did apollo creed die   \n",
       "\n",
       "   DocumentID    DocumentTitle SentenceID  \\\n",
       "0          D1     Glacier cave       D1-0   \n",
       "1          D1     Glacier cave       D1-1   \n",
       "2          D1     Glacier cave       D1-2   \n",
       "3          D1     Glacier cave       D1-3   \n",
       "4          D1     Glacier cave       D1-4   \n",
       "5          D2  Circular motion       D2-0   \n",
       "6          D2  Circular motion       D2-1   \n",
       "7          D2  Circular motion       D2-2   \n",
       "8          D2  Circular motion       D2-3   \n",
       "9          D2  Circular motion       D2-4   \n",
       "10         D2  Circular motion       D2-5   \n",
       "11         D2  Circular motion       D2-6   \n",
       "12         D5     Apollo Creed       D5-0   \n",
       "13         D5     Apollo Creed       D5-1   \n",
       "14         D5     Apollo Creed       D5-2   \n",
       "\n",
       "                                             Sentence  Label   Type  \n",
       "0   A partly submerged glacier cave on Perito More...      0  train  \n",
       "1           The ice facade is approximately 60 m high      0  train  \n",
       "2           Ice formations in the Titlis glacier cave      0  train  \n",
       "3   A glacier cave is a cave formed within the ice...      1  train  \n",
       "4   Glacier caves are often called ice caves , but...      0  train  \n",
       "5   In physics , circular motion is a movement of ...      0  train  \n",
       "6   It can be uniform, with constant angular rate ...      0  train  \n",
       "7   The rotation around a fixed axis of a three-di...      0  train  \n",
       "8   The equations of motion describe the movement ...      0  train  \n",
       "9   Examples of circular motion include: an artifi...      0  train  \n",
       "10  Since the object's velocity vector is constant...      0  train  \n",
       "11  Without this acceleration, the object would mo...      0  train  \n",
       "12  Apollo Creed is a fictional character from the...      0  train  \n",
       "13                   He was played by Carl Weathers .      0  train  \n",
       "14  Creed had multiple nicknames, including The Ma...      0  train  "
      ]
     },
     "execution_count": 45,
     "metadata": {},
     "output_type": "execute_result"
    }
   ],
   "source": [
    "dataset[dataset['Type'] == 'train'].head(15)"
   ]
  },
  {
   "cell_type": "code",
   "execution_count": 43,
   "metadata": {
    "collapsed": true
   },
   "outputs": [],
   "source": [
    "documents_df.to_csv(\"C:\\Users\\JareD\\Major Project\\EvenSem\\Data\\Documents_Sentences.tsv\", sep = '\\t')"
   ]
  },
  {
   "cell_type": "code",
   "execution_count": 4,
   "metadata": {
    "collapsed": false
   },
   "outputs": [
    {
     "data": {
      "text/html": [
       "<div>\n",
       "<table border=\"1\" class=\"dataframe\">\n",
       "  <thead>\n",
       "    <tr style=\"text-align: right;\">\n",
       "      <th></th>\n",
       "      <th>DocumentID</th>\n",
       "      <th>SentenceID</th>\n",
       "      <th>Sentence</th>\n",
       "    </tr>\n",
       "  </thead>\n",
       "  <tbody>\n",
       "    <tr>\n",
       "      <th>0</th>\n",
       "      <td>D1</td>\n",
       "      <td>D1-0</td>\n",
       "      <td>A partly submerged glacier cave on Perito More...</td>\n",
       "    </tr>\n",
       "    <tr>\n",
       "      <th>1</th>\n",
       "      <td>D1</td>\n",
       "      <td>D1-1</td>\n",
       "      <td>The ice facade is approximately 60 m high</td>\n",
       "    </tr>\n",
       "    <tr>\n",
       "      <th>2</th>\n",
       "      <td>D1</td>\n",
       "      <td>D1-2</td>\n",
       "      <td>Ice formations in the Titlis glacier cave</td>\n",
       "    </tr>\n",
       "    <tr>\n",
       "      <th>3</th>\n",
       "      <td>D1</td>\n",
       "      <td>D1-3</td>\n",
       "      <td>A glacier cave is a cave formed within the ice...</td>\n",
       "    </tr>\n",
       "    <tr>\n",
       "      <th>4</th>\n",
       "      <td>D1</td>\n",
       "      <td>D1-4</td>\n",
       "      <td>Glacier caves are often called ice caves , but...</td>\n",
       "    </tr>\n",
       "    <tr>\n",
       "      <th>5</th>\n",
       "      <td>D2</td>\n",
       "      <td>D2-0</td>\n",
       "      <td>In physics , circular motion is a movement of ...</td>\n",
       "    </tr>\n",
       "    <tr>\n",
       "      <th>6</th>\n",
       "      <td>D2</td>\n",
       "      <td>D2-1</td>\n",
       "      <td>It can be uniform, with constant angular rate ...</td>\n",
       "    </tr>\n",
       "    <tr>\n",
       "      <th>7</th>\n",
       "      <td>D2</td>\n",
       "      <td>D2-2</td>\n",
       "      <td>The rotation around a fixed axis of a three-di...</td>\n",
       "    </tr>\n",
       "    <tr>\n",
       "      <th>8</th>\n",
       "      <td>D2</td>\n",
       "      <td>D2-3</td>\n",
       "      <td>The equations of motion describe the movement ...</td>\n",
       "    </tr>\n",
       "    <tr>\n",
       "      <th>9</th>\n",
       "      <td>D2</td>\n",
       "      <td>D2-4</td>\n",
       "      <td>Examples of circular motion include: an artifi...</td>\n",
       "    </tr>\n",
       "    <tr>\n",
       "      <th>10</th>\n",
       "      <td>D2</td>\n",
       "      <td>D2-5</td>\n",
       "      <td>Since the object's velocity vector is constant...</td>\n",
       "    </tr>\n",
       "    <tr>\n",
       "      <th>11</th>\n",
       "      <td>D2</td>\n",
       "      <td>D2-6</td>\n",
       "      <td>Without this acceleration, the object would mo...</td>\n",
       "    </tr>\n",
       "    <tr>\n",
       "      <th>12</th>\n",
       "      <td>D5</td>\n",
       "      <td>D5-0</td>\n",
       "      <td>Apollo Creed is a fictional character from the...</td>\n",
       "    </tr>\n",
       "    <tr>\n",
       "      <th>13</th>\n",
       "      <td>D5</td>\n",
       "      <td>D5-1</td>\n",
       "      <td>He was played by Carl Weathers .</td>\n",
       "    </tr>\n",
       "    <tr>\n",
       "      <th>14</th>\n",
       "      <td>D5</td>\n",
       "      <td>D5-2</td>\n",
       "      <td>Creed had multiple nicknames, including The Ma...</td>\n",
       "    </tr>\n",
       "  </tbody>\n",
       "</table>\n",
       "</div>"
      ],
      "text/plain": [
       "   DocumentID SentenceID                                           Sentence\n",
       "0          D1       D1-0  A partly submerged glacier cave on Perito More...\n",
       "1          D1       D1-1          The ice facade is approximately 60 m high\n",
       "2          D1       D1-2          Ice formations in the Titlis glacier cave\n",
       "3          D1       D1-3  A glacier cave is a cave formed within the ice...\n",
       "4          D1       D1-4  Glacier caves are often called ice caves , but...\n",
       "5          D2       D2-0  In physics , circular motion is a movement of ...\n",
       "6          D2       D2-1  It can be uniform, with constant angular rate ...\n",
       "7          D2       D2-2  The rotation around a fixed axis of a three-di...\n",
       "8          D2       D2-3  The equations of motion describe the movement ...\n",
       "9          D2       D2-4  Examples of circular motion include: an artifi...\n",
       "10         D2       D2-5  Since the object's velocity vector is constant...\n",
       "11         D2       D2-6  Without this acceleration, the object would mo...\n",
       "12         D5       D5-0  Apollo Creed is a fictional character from the...\n",
       "13         D5       D5-1                   He was played by Carl Weathers .\n",
       "14         D5       D5-2  Creed had multiple nicknames, including The Ma..."
      ]
     },
     "execution_count": 4,
     "metadata": {},
     "output_type": "execute_result"
    }
   ],
   "source": [
    "documents_df.head(15)"
   ]
  },
  {
   "cell_type": "code",
   "execution_count": 55,
   "metadata": {
    "collapsed": false
   },
   "outputs": [
    {
     "data": {
      "text/plain": [
       "array([2, 4])"
      ]
     },
     "execution_count": 55,
     "metadata": {},
     "output_type": "execute_result"
    }
   ],
   "source": [
    "import numpy as np\n",
    "x = [[1, 2], [3, 4]]\n",
    "np.array(np.array(x))[:, 1]"
   ]
  },
  {
   "cell_type": "code",
   "execution_count": 74,
   "metadata": {
    "collapsed": false
   },
   "outputs": [
    {
     "data": {
      "text/plain": [
       "'In physics , circular motion is a movement of an object along the circumference of a circle or rotation along a circular path.'"
      ]
     },
     "execution_count": 74,
     "metadata": {},
     "output_type": "execute_result"
    }
   ],
   "source": [
    "documents_df[documents_df['SentenceID'] == 'D2-0']['Sentence'].values[0]"
   ]
  },
  {
   "cell_type": "code",
   "execution_count": 3,
   "metadata": {
    "collapsed": false
   },
   "outputs": [],
   "source": [
    "import pandas as pd\n",
    "import string, re\n",
    "\n",
    "def preprocess(inputString):\n",
    "    inputString = inputString.lower()\n",
    "    inputString = re.sub('[%s]' % re.escape(string.punctuation), '', inputString)\n",
    "    inputString = ' '.join(inputString.replace(\"'s\", '').split())\n",
    "    return re.sub( '\\s+', ' ', inputString).strip()\n",
    "\n",
    "def getDocuments():\n",
    "    documents_df = pd.read_table(\"C:\\Users\\JareD\\Major Project\\EvenSem\\Data\\Documents_Sentences.tsv\")\n",
    "    document_ids = documents_df['DocumentID'].unique()\n",
    "    print len(document_ids)\n",
    "    document_content = []\n",
    "    for document_id in document_ids:\n",
    "        content = \"\"\n",
    "        document_df = documents_df[documents_df['DocumentID'] == document_id]\n",
    "        sentences = document_df['Sentence'].values\n",
    "        for sentence in sentences:\n",
    "            content = content + \" \" + sentence\n",
    "        content = preprocess(content)\n",
    "        document_content.append(content)    \n",
    "    return document_content"
   ]
  },
  {
   "cell_type": "code",
   "execution_count": 4,
   "metadata": {
    "collapsed": false
   },
   "outputs": [
    {
     "name": "stdout",
     "output_type": "stream",
     "text": [
      "2808\n"
     ]
    }
   ],
   "source": [
    "document_content = getDocuments()"
   ]
  },
  {
   "cell_type": "code",
   "execution_count": 2,
   "metadata": {
    "collapsed": false
   },
   "outputs": [],
   "source": [
    "documents_df = pd.read_table(\"C:\\Users\\JareD\\Major Project\\EvenSem\\Data\\Documents_Sentences.tsv\")"
   ]
  },
  {
   "cell_type": "code",
   "execution_count": 7,
   "metadata": {
    "collapsed": false
   },
   "outputs": [],
   "source": [
    "documents_content = zip(documents_df['DocumentID'].unique(), document_content)"
   ]
  },
  {
   "cell_type": "code",
   "execution_count": 8,
   "metadata": {
    "collapsed": false
   },
   "outputs": [],
   "source": [
    "documents_content = np.array(documents_content)"
   ]
  },
  {
   "cell_type": "code",
   "execution_count": 9,
   "metadata": {
    "collapsed": false
   },
   "outputs": [],
   "source": [
    "documents_content_df = pd.DataFrame(documents_content, columns = ['DocumentID', 'Content'])"
   ]
  },
  {
   "cell_type": "code",
   "execution_count": 10,
   "metadata": {
    "collapsed": false
   },
   "outputs": [],
   "source": [
    "documents_content_df.to_csv(\"C:\\Users\\JareD\\Major Project\\EvenSem\\Data\\Documents_Content.tsv\", sep = '\\t')"
   ]
  },
  {
   "cell_type": "code",
   "execution_count": 12,
   "metadata": {
    "collapsed": true
   },
   "outputs": [],
   "source": [
    "import numpy as np\n",
    "import pandas as pd\n",
    "import nltk\n",
    "import re\n",
    "import os\n",
    "import codecs\n",
    "from sklearn import feature_extraction\n",
    "import mpld3"
   ]
  },
  {
   "cell_type": "code",
   "execution_count": 3,
   "metadata": {
    "collapsed": false
   },
   "outputs": [],
   "source": [
    "documents_content_df = pd.read_table(\"C:\\Users\\JareD\\Major Project\\EvenSem\\Data\\Documents_Content.tsv\")"
   ]
  },
  {
   "cell_type": "code",
   "execution_count": 5,
   "metadata": {
    "collapsed": true
   },
   "outputs": [],
   "source": [
    "from nltk.stem.snowball import SnowballStemmer\n",
    "stemmer = SnowballStemmer(\"english\")\n",
    "\n",
    "def tokenize_and_stem(text):\n",
    "    # first tokenize by sentence, then by word to ensure that punctuation is caught as it's own token\n",
    "    tokens = [word for sent in nltk.sent_tokenize(text) for word in nltk.word_tokenize(sent)]\n",
    "    filtered_tokens = []\n",
    "    # filter out any tokens not containing letters (e.g., numeric tokens, raw punctuation)\n",
    "    for token in tokens:\n",
    "        if re.search('[a-zA-Z]', token):\n",
    "            filtered_tokens.append(token)\n",
    "    stems = [stemmer.stem(t) for t in filtered_tokens]\n",
    "    return stems\n",
    "\n",
    "\n",
    "def tokenize_only(text):\n",
    "    # first tokenize by sentence, then by word to ensure that punctuation is caught as it's own token\n",
    "    tokens = [word.lower() for sent in nltk.sent_tokenize(text) for word in nltk.word_tokenize(sent)]\n",
    "    filtered_tokens = []\n",
    "    # filter out any tokens not containing letters (e.g., numeric tokens, raw punctuation)\n",
    "    for token in tokens:\n",
    "        if re.search('[a-zA-Z]', token):\n",
    "            filtered_tokens.append(token)\n",
    "    return filtered_tokens"
   ]
  },
  {
   "cell_type": "code",
   "execution_count": 21,
   "metadata": {
    "collapsed": false
   },
   "outputs": [],
   "source": [
    "totalvocab_stemmed = []\n",
    "totalvocab_tokenized = []\n",
    "documents_content = documents_content_df['Content']\n",
    "documents_id = documents_content_df['DocumentID']\n"
   ]
  },
  {
   "cell_type": "code",
   "execution_count": 8,
   "metadata": {
    "collapsed": false
   },
   "outputs": [],
   "source": [
    "import pickle\n",
    "vocabulary = pickle.load(open(\"C:\\Users\\JareD\\Major Project\\EvenSem\\Models\\IR\\Tfidf_Vocabulary.pkl\", \"rb\"))\n",
    "stemmer = SnowballStemmer(\"english\")"
   ]
  },
  {
   "cell_type": "code",
   "execution_count": 13,
   "metadata": {
    "collapsed": false
   },
   "outputs": [
    {
     "name": "stdout",
     "output_type": "stream",
     "text": [
      "Wall time: 15.4 s\n",
      "(2808, 26487)\n"
     ]
    }
   ],
   "source": [
    "from sklearn.feature_extraction.text import TfidfVectorizer\n",
    "import nltk\n",
    "\n",
    "documents_content = documents_content_df['Content']\n",
    "\n",
    "#define vectorizer parameters\n",
    "tfidf_vectorizer = TfidfVectorizer(stop_words='english', tokenizer = tokenize_and_stem, vocabulary = vocabulary)\n",
    "\n",
    "%time tfidf_matrix = tfidf_vectorizer.fit_transform(documents_content) #fit the vectorizer to synopses\n",
    "\n",
    "print(tfidf_matrix.shape)"
   ]
  },
  {
   "cell_type": "code",
   "execution_count": 14,
   "metadata": {
    "collapsed": false
   },
   "outputs": [
    {
     "name": "stderr",
     "output_type": "stream",
     "text": [
      "C:\\Users\\JareD\\Anaconda2\\lib\\site-packages\\IPython\\core\\formatters.py:90: DeprecationWarning: DisplayFormatter._ipython_display_formatter_default is deprecated: use @default decorator instead.\n",
      "  def _ipython_display_formatter_default(self):\n",
      "C:\\Users\\JareD\\Anaconda2\\lib\\site-packages\\IPython\\core\\formatters.py:96: DeprecationWarning: DisplayFormatter._formatters_default is deprecated: use @default decorator instead.\n",
      "  def _formatters_default(self):\n",
      "C:\\Users\\JareD\\Anaconda2\\lib\\site-packages\\IPython\\core\\formatters.py:675: DeprecationWarning: PlainTextFormatter._deferred_printers_default is deprecated: use @default decorator instead.\n",
      "  def _deferred_printers_default(self):\n",
      "C:\\Users\\JareD\\Anaconda2\\lib\\site-packages\\IPython\\core\\formatters.py:667: DeprecationWarning: PlainTextFormatter._singleton_printers_default is deprecated: use @default decorator instead.\n",
      "  def _singleton_printers_default(self):\n",
      "C:\\Users\\JareD\\Anaconda2\\lib\\site-packages\\IPython\\core\\formatters.py:670: DeprecationWarning: PlainTextFormatter._type_printers_default is deprecated: use @default decorator instead.\n",
      "  def _type_printers_default(self):\n",
      "C:\\Users\\JareD\\Anaconda2\\lib\\site-packages\\IPython\\core\\formatters.py:667: DeprecationWarning: PlainTextFormatter._singleton_printers_default is deprecated: use @default decorator instead.\n",
      "  def _singleton_printers_default(self):\n",
      "C:\\Users\\JareD\\Anaconda2\\lib\\site-packages\\IPython\\core\\formatters.py:670: DeprecationWarning: PlainTextFormatter._type_printers_default is deprecated: use @default decorator instead.\n",
      "  def _type_printers_default(self):\n",
      "C:\\Users\\JareD\\Anaconda2\\lib\\site-packages\\IPython\\core\\formatters.py:675: DeprecationWarning: PlainTextFormatter._deferred_printers_default is deprecated: use @default decorator instead.\n",
      "  def _deferred_printers_default(self):\n"
     ]
    },
    {
     "data": {
      "text/plain": [
       "26487"
      ]
     },
     "execution_count": 14,
     "metadata": {},
     "output_type": "execute_result"
    }
   ],
   "source": [
    "terms = tfidf_vectorizer.get_feature_names()\n",
    "len(terms)"
   ]
  },
  {
   "cell_type": "code",
   "execution_count": 93,
   "metadata": {
    "collapsed": false
   },
   "outputs": [
    {
     "name": "stdout",
     "output_type": "stream",
     "text": [
      "174\n",
      "15\n",
      "15\n",
      "12\n",
      "1987\n",
      "3rd\n",
      "4th\n",
      "5th\n",
      "1\n",
      "166\n"
     ]
    }
   ],
   "source": [
    "tokens = nltk.word_tokenize(documents_content[2])\n",
    "print len(tokens)\n",
    "count = 0\n",
    "for token in tokens:\n",
    "    try:\n",
    "        if stemmer.stem(token) in terms:\n",
    "            #print stemmer.stem(token)\n",
    "            count += 1\n",
    "        elif token in stopwords:\n",
    "            count += 1\n",
    "        else:\n",
    "            print stemmer.stem(token)\n",
    "    except:\n",
    "        print 1\n",
    "print count"
   ]
  },
  {
   "cell_type": "code",
   "execution_count": 87,
   "metadata": {
    "collapsed": false
   },
   "outputs": [],
   "source": [
    "#Get Vocabulary\n",
    "vocabulary = []\n",
    "for document_content in documents_content:\n",
    "    tokens = nltk.word_tokenize(document_content)\n",
    "    filtered_tokens = []\n",
    "    for token in tokens:\n",
    "        if token.isalpha():\n",
    "            filtered_tokens.append(token)\n",
    "    stems = [stemmer.stem(t) for t in filtered_tokens]\n",
    "    vocabulary.extend(stems)\n",
    "    vocabulary = list(set(vocabulary))"
   ]
  },
  {
   "cell_type": "code",
   "execution_count": 63,
   "metadata": {
    "collapsed": false
   },
   "outputs": [
    {
     "data": {
      "text/plain": [
       "26487"
      ]
     },
     "execution_count": 63,
     "metadata": {},
     "output_type": "execute_result"
    }
   ],
   "source": [
    "len(vocabulary)"
   ]
  },
  {
   "cell_type": "code",
   "execution_count": 78,
   "metadata": {
    "collapsed": false
   },
   "outputs": [
    {
     "data": {
      "text/plain": [
       "True"
      ]
     },
     "execution_count": 78,
     "metadata": {},
     "output_type": "execute_result"
    }
   ],
   "source": [
    "\"part\" in vocabulary"
   ]
  },
  {
   "cell_type": "code",
   "execution_count": 29,
   "metadata": {
    "collapsed": true
   },
   "outputs": [],
   "source": [
    "from sklearn.metrics.pairwise import cosine_similarity\n",
    "dist = 1 - cosine_similarity(tfidf_matrix)"
   ]
  },
  {
   "cell_type": "code",
   "execution_count": 15,
   "metadata": {
    "collapsed": true
   },
   "outputs": [],
   "source": [
    "documents_sentences_df = pd.read_table(\"C:\\Users\\JareD\\Major Project\\EvenSem\\Data\\Documents_Sentences.tsv\")\n",
    "documents_clusters_df = pd.read_table(\"C:\\Users\\JareD\\Major Project\\EvenSem\\Data\\Documents_Clusters.tsv\")\n",
    "tfidf_vocabulary = pickle.load(open(\"C:\\Users\\JareD\\Major Project\\EvenSem\\Models\\IR\\Tfidf_Vocabulary.pkl\", \"rb\"))\n",
    "tfidf_matrix = pickle.load(open(\"C:\\Users\\JareD\\Major Project\\EvenSem\\Models\\IR\\Tfidf_Matrix.pkl\", \"rb\"))\n",
    "km = pickle.load(open(\"C:\\Users\\JareD\\Major Project\\EvenSem\\Models\\IR\\KMeans.pkl\", \"rb\"))\n",
    "stemmer = SnowballStemmer(\"english\")"
   ]
  },
  {
   "cell_type": "code",
   "execution_count": 16,
   "metadata": {
    "collapsed": false
   },
   "outputs": [
    {
     "name": "stdout",
     "output_type": "stream",
     "text": [
      "Wall time: 5.72 s\n",
      "0.00748178810468\n"
     ]
    }
   ],
   "source": [
    "from sklearn.cluster import KMeans\n",
    "from sklearn import metrics\n",
    "\n",
    "num_clusters = 15\n",
    "\n",
    "km = KMeans(n_clusters=num_clusters)\n",
    "\n",
    "%time km.fit(tfidf_matrix)\n",
    "\n",
    "clusters = km.labels_\n",
    "silhouette_score = metrics.silhouette_score(tfidf_matrix, clusters)\n",
    "print silhouette_score"
   ]
  },
  {
   "cell_type": "code",
   "execution_count": 17,
   "metadata": {
    "collapsed": false
   },
   "outputs": [
    {
     "name": "stdout",
     "output_type": "stream",
     "text": [
      "5 0.00633442853631\n",
      "6 0.00630942891887\n",
      "7 0.00583977839792\n",
      "8 0.0072519763563\n",
      "9 0.00699450758344\n",
      "10 0.00703367111455\n",
      "11 0.00644771661583\n",
      "12 0.00690957039641\n",
      "13 0.00647010069969\n",
      "14 0.00734067671023\n",
      "15 0.00866133535204\n",
      "16 0.00826131322643\n",
      "17 0.00791106380009\n",
      "18 0.0082516382287\n",
      "19 0.00755138746029\n"
     ]
    }
   ],
   "source": [
    "from sklearn import metrics\n",
    "\n",
    "silhouette_scores = []\n",
    "for num_clusters in range(5, 20):\n",
    "    km = KMeans(n_clusters=num_clusters)\n",
    "    cluster_labels = km.fit_predict(tfidf_matrix)\n",
    "    silhouette_score = metrics.silhouette_score(tfidf_matrix, cluster_labels)\n",
    "    silhouette_scores.append(silhouette_score)\n",
    "    print num_clusters, silhouette_score"
   ]
  },
  {
   "cell_type": "code",
   "execution_count": 28,
   "metadata": {
    "collapsed": false
   },
   "outputs": [
    {
     "data": {
      "text/plain": [
       "<matplotlib.text.Text at 0x11459b00>"
      ]
     },
     "execution_count": 28,
     "metadata": {},
     "output_type": "execute_result"
    },
    {
     "data": {
      "image/png": "[encoded data removed]",
      "text/plain": [
       "<matplotlib.figure.Figure at 0xc1930f0>"
      ]
     },
     "metadata": {},
     "output_type": "display_data"
    }
   ],
   "source": [
    "number_of_clusters = [x for x in range(5, 20)]\n",
    "\n",
    "import matplotlib.pyplot as plt\n",
    "\n",
    "%matplotlib inline\n",
    "plt.style.use('ggplot')\n",
    "\n",
    "plt.figure(figsize = (10, 10))\n",
    "plot = plt.bar(number_of_clusters, silhouette_scores)\n",
    "plt.title(\"Plot of Silhouette Score vs. # Clusters\")\n",
    "plt.xlabel(\"# of clusters\")\n",
    "plt.ylabel(\"Silhouette score\")"
   ]
  },
  {
   "cell_type": "code",
   "execution_count": 135,
   "metadata": {
    "collapsed": false
   },
   "outputs": [
    {
     "name": "stdout",
     "output_type": "stream",
     "text": [
      "[[  2.60000000e+01   9.78239093e-03]\n",
      " [  2.70000000e+01   9.23732788e-03]\n",
      " [  2.40000000e+01   8.86752917e-03]\n",
      " [  2.20000000e+01   8.83286868e-03]\n",
      " [  2.30000000e+01   8.67993561e-03]\n",
      " [  2.90000000e+01   8.49643272e-03]\n",
      " [  2.80000000e+01   8.49114172e-03]\n",
      " [  1.90000000e+01   8.41684749e-03]\n",
      " [  1.50000000e+01   8.21749370e-03]\n",
      " [  2.00000000e+01   8.07777847e-03]\n",
      " [  1.20000000e+01   7.88798415e-03]\n",
      " [  1.70000000e+01   7.87984723e-03]\n",
      " [  1.10000000e+01   7.87234078e-03]\n",
      " [  1.40000000e+01   7.83328784e-03]\n",
      " [  2.50000000e+01   7.77499811e-03]\n",
      " [  1.80000000e+01   7.73798979e-03]\n",
      " [  1.30000000e+01   7.63121556e-03]\n",
      " [  1.60000000e+01   7.31875512e-03]\n",
      " [  9.00000000e+00   7.18831557e-03]\n",
      " [  2.10000000e+01   7.06620544e-03]\n",
      " [  1.00000000e+01   6.72498916e-03]\n",
      " [  8.00000000e+00   6.42040616e-03]\n",
      " [  6.00000000e+00   6.28594389e-03]\n",
      " [  7.00000000e+00   6.21566890e-03]\n",
      " [  5.00000000e+00   5.81974828e-03]]\n"
     ]
    }
   ],
   "source": [
    "number_of_clusters = [x for x in range(5, 30)]\n",
    "lst = zip(number_of_clusters, silhouette_scores)\n",
    "lst = np.array(lst)\n",
    "lst = lst[np.argsort(lst[:, 1])]\n",
    "lst = lst[::-1]\n",
    "print lst"
   ]
  },
  {
   "cell_type": "code",
   "execution_count": null,
   "metadata": {
    "collapsed": false
   },
   "outputs": [],
   "source": [
    "count(clusters)"
   ]
  },
  {
   "cell_type": "code",
   "execution_count": 172,
   "metadata": {
    "collapsed": true
   },
   "outputs": [],
   "source": [
    "document_clusters = {'DocumentID' : documents_id, 'Cluster' : clusters  }\n",
    "\n",
    "document_clusters_df = pd.DataFrame(document_clusters, columns = ['DocumentID', 'Cluster'])\n",
    "document_clusters_df.to_csv(\"C:\\Users\\JareD\\Major Project\\EvenSem\\Data\\Documents_Clusters.tsv\", sep = '\\t')"
   ]
  },
  {
   "cell_type": "code",
   "execution_count": 173,
   "metadata": {
    "collapsed": false
   },
   "outputs": [
    {
     "data": {
      "text/html": [
       "<div>\n",
       "<table border=\"1\" class=\"dataframe\">\n",
       "  <thead>\n",
       "    <tr style=\"text-align: right;\">\n",
       "      <th></th>\n",
       "      <th>DocumentID</th>\n",
       "      <th>Cluster</th>\n",
       "    </tr>\n",
       "  </thead>\n",
       "  <tbody>\n",
       "    <tr>\n",
       "      <th>0</th>\n",
       "      <td>D1</td>\n",
       "      <td>8</td>\n",
       "    </tr>\n",
       "    <tr>\n",
       "      <th>1</th>\n",
       "      <td>D2</td>\n",
       "      <td>8</td>\n",
       "    </tr>\n",
       "    <tr>\n",
       "      <th>2</th>\n",
       "      <td>D5</td>\n",
       "      <td>2</td>\n",
       "    </tr>\n",
       "    <tr>\n",
       "      <th>3</th>\n",
       "      <td>D6</td>\n",
       "      <td>4</td>\n",
       "    </tr>\n",
       "    <tr>\n",
       "      <th>4</th>\n",
       "      <td>D7</td>\n",
       "      <td>8</td>\n",
       "    </tr>\n",
       "  </tbody>\n",
       "</table>\n",
       "</div>"
      ],
      "text/plain": [
       "  DocumentID  Cluster\n",
       "0         D1        8\n",
       "1         D2        8\n",
       "2         D5        2\n",
       "3         D6        4\n",
       "4         D7        8"
      ]
     },
     "execution_count": 173,
     "metadata": {},
     "output_type": "execute_result"
    }
   ],
   "source": [
    "document_clusters_df.head()"
   ]
  },
  {
   "cell_type": "code",
   "execution_count": 192,
   "metadata": {
    "collapsed": true
   },
   "outputs": [],
   "source": [
    "import pickle\n",
    "\n",
    "pickle.dump(tfidf_vectorizer, open(\"C:\\Users\\JareD\\Major Project\\EvenSem\\Models\\IR\\Tfidf_Vectorizer.pkl\", \"wb\"))\n",
    "pickle.dump(km, open(\"C:\\Users\\JareD\\Major Project\\EvenSem\\Models\\IR\\KMeans.pkl\", \"wb\")) \n",
    "pickle.dump(tfidf_matrix, open(\"C:\\Users\\JareD\\Major Project\\EvenSem\\Models\\IR\\Tfidf_Matrix.pkl\", \"wb\")) \n",
    "pickle.dump(tfidf_vectorizer.get_feature_names(), open(\"C:\\Users\\JareD\\Major Project\\EvenSem\\Models\\IR\\Tfidf_Vocabulary.pkl\", \"wb\")) "
   ]
  },
  {
   "cell_type": "code",
   "execution_count": 200,
   "metadata": {
    "collapsed": false
   },
   "outputs": [
    {
     "name": "stdout",
     "output_type": "stream",
     "text": [
      "['D468', 'D2724', 'D1283', 'D2293', 'D1949']\n",
      "['D468', 'D2724', 'D1283', 'D2293', 'D1949']\n"
     ]
    },
    {
     "data": {
      "text/html": [
       "<div>\n",
       "<table border=\"1\" class=\"dataframe\">\n",
       "  <thead>\n",
       "    <tr style=\"text-align: right;\">\n",
       "      <th></th>\n",
       "      <th>Unnamed: 0</th>\n",
       "      <th>DocumentID</th>\n",
       "      <th>SentenceID</th>\n",
       "      <th>Sentence</th>\n",
       "    </tr>\n",
       "  </thead>\n",
       "  <tbody>\n",
       "    <tr>\n",
       "      <th>3391</th>\n",
       "      <td>3391</td>\n",
       "      <td>D468</td>\n",
       "      <td>D468-0</td>\n",
       "      <td>Self-esteem is a term used in psychology to re...</td>\n",
       "    </tr>\n",
       "    <tr>\n",
       "      <th>3392</th>\n",
       "      <td>3392</td>\n",
       "      <td>D468</td>\n",
       "      <td>D468-1</td>\n",
       "      <td>It is a judgement of oneself as well as an att...</td>\n",
       "    </tr>\n",
       "    <tr>\n",
       "      <th>3393</th>\n",
       "      <td>3393</td>\n",
       "      <td>D468</td>\n",
       "      <td>D468-2</td>\n",
       "      <td>Self-esteem encompasses beliefs (for example, ...</td>\n",
       "    </tr>\n",
       "    <tr>\n",
       "      <th>3394</th>\n",
       "      <td>3394</td>\n",
       "      <td>D468</td>\n",
       "      <td>D468-3</td>\n",
       "      <td>Smith and Mackie define it by saying \"The self...</td>\n",
       "    </tr>\n",
       "    <tr>\n",
       "      <th>3395</th>\n",
       "      <td>3395</td>\n",
       "      <td>D468</td>\n",
       "      <td>D468-4</td>\n",
       "      <td>Self-esteem is also known as the evaluative di...</td>\n",
       "    </tr>\n",
       "    <tr>\n",
       "      <th>3396</th>\n",
       "      <td>3396</td>\n",
       "      <td>D468</td>\n",
       "      <td>D468-5</td>\n",
       "      <td>One's self-esteem is also closely associated w...</td>\n",
       "    </tr>\n",
       "    <tr>\n",
       "      <th>3397</th>\n",
       "      <td>3397</td>\n",
       "      <td>D468</td>\n",
       "      <td>D468-6</td>\n",
       "      <td>Self-esteem is a disposition that a person has...</td>\n",
       "    </tr>\n",
       "    <tr>\n",
       "      <th>3398</th>\n",
       "      <td>3398</td>\n",
       "      <td>D468</td>\n",
       "      <td>D468-7</td>\n",
       "      <td>In the mid-1960s, Morris Rosenberg and social-...</td>\n",
       "    </tr>\n",
       "    <tr>\n",
       "      <th>3399</th>\n",
       "      <td>3399</td>\n",
       "      <td>D468</td>\n",
       "      <td>D468-8</td>\n",
       "      <td>Nathaniel Branden in 1969 defined self-esteem ...</td>\n",
       "    </tr>\n",
       "    <tr>\n",
       "      <th>3400</th>\n",
       "      <td>3400</td>\n",
       "      <td>D468</td>\n",
       "      <td>D468-9</td>\n",
       "      <td>According to Branden, self-esteem is the sum o...</td>\n",
       "    </tr>\n",
       "    <tr>\n",
       "      <th>3401</th>\n",
       "      <td>3401</td>\n",
       "      <td>D468</td>\n",
       "      <td>D468-10</td>\n",
       "      <td>It exists as a consequence of the implicit jud...</td>\n",
       "    </tr>\n",
       "    <tr>\n",
       "      <th>3402</th>\n",
       "      <td>3402</td>\n",
       "      <td>D468</td>\n",
       "      <td>D468-11</td>\n",
       "      <td>As a social psychological construct, self-este...</td>\n",
       "    </tr>\n",
       "    <tr>\n",
       "      <th>3403</th>\n",
       "      <td>3403</td>\n",
       "      <td>D468</td>\n",
       "      <td>D468-12</td>\n",
       "      <td>In addition, self-esteem has also been treated...</td>\n",
       "    </tr>\n",
       "    <tr>\n",
       "      <th>3404</th>\n",
       "      <td>3404</td>\n",
       "      <td>D468</td>\n",
       "      <td>D468-13</td>\n",
       "      <td>Self-esteem can apply specifically to a partic...</td>\n",
       "    </tr>\n",
       "    <tr>\n",
       "      <th>3405</th>\n",
       "      <td>3405</td>\n",
       "      <td>D468</td>\n",
       "      <td>D468-14</td>\n",
       "      <td>Psychologists usually regard self-esteem as an...</td>\n",
       "    </tr>\n",
       "    <tr>\n",
       "      <th>3406</th>\n",
       "      <td>3406</td>\n",
       "      <td>D468</td>\n",
       "      <td>D468-15</td>\n",
       "      <td>Synonyms or near-synonyms of self-esteem inclu...</td>\n",
       "    </tr>\n",
       "    <tr>\n",
       "      <th>9491</th>\n",
       "      <td>9491</td>\n",
       "      <td>D1283</td>\n",
       "      <td>D1283-0</td>\n",
       "      <td>The Gift is the second album by Scottish singe...</td>\n",
       "    </tr>\n",
       "    <tr>\n",
       "      <th>9492</th>\n",
       "      <td>9492</td>\n",
       "      <td>D1283</td>\n",
       "      <td>D1283-1</td>\n",
       "      <td>Boyle hinted that the album has a 1960s feel \"...</td>\n",
       "    </tr>\n",
       "    <tr>\n",
       "      <th>9493</th>\n",
       "      <td>9493</td>\n",
       "      <td>D1283</td>\n",
       "      <td>D1283-2</td>\n",
       "      <td>on 30 November 2011, the album received a nomi...</td>\n",
       "    </tr>\n",
       "    <tr>\n",
       "      <th>16597</th>\n",
       "      <td>16597</td>\n",
       "      <td>D2293</td>\n",
       "      <td>D2293-0</td>\n",
       "      <td>Where Do We Come From?</td>\n",
       "    </tr>\n",
       "    <tr>\n",
       "      <th>16598</th>\n",
       "      <td>16598</td>\n",
       "      <td>D2293</td>\n",
       "      <td>D2293-1</td>\n",
       "      <td>What Are We?</td>\n",
       "    </tr>\n",
       "    <tr>\n",
       "      <th>16599</th>\n",
       "      <td>16599</td>\n",
       "      <td>D2293</td>\n",
       "      <td>D2293-2</td>\n",
       "      <td>Where Are We Going?</td>\n",
       "    </tr>\n",
       "    <tr>\n",
       "      <th>16600</th>\n",
       "      <td>16600</td>\n",
       "      <td>D2293</td>\n",
       "      <td>D2293-3</td>\n",
       "      <td>One of Post-Impressionist Paul Gauguin 's most...</td>\n",
       "    </tr>\n",
       "    <tr>\n",
       "      <th>16601</th>\n",
       "      <td>16601</td>\n",
       "      <td>D2293</td>\n",
       "      <td>D2293-4</td>\n",
       "      <td>The meaning of life is a philosophical questio...</td>\n",
       "    </tr>\n",
       "    <tr>\n",
       "      <th>16602</th>\n",
       "      <td>16602</td>\n",
       "      <td>D2293</td>\n",
       "      <td>D2293-5</td>\n",
       "      <td>It can also be expressed in different forms, s...</td>\n",
       "    </tr>\n",
       "    <tr>\n",
       "      <th>16603</th>\n",
       "      <td>16603</td>\n",
       "      <td>D2293</td>\n",
       "      <td>D2293-6</td>\n",
       "      <td>It has been the subject of much philosophical,...</td>\n",
       "    </tr>\n",
       "    <tr>\n",
       "      <th>16604</th>\n",
       "      <td>16604</td>\n",
       "      <td>D2293</td>\n",
       "      <td>D2293-7</td>\n",
       "      <td>There have been a large number of proposed ans...</td>\n",
       "    </tr>\n",
       "    <tr>\n",
       "      <th>16605</th>\n",
       "      <td>16605</td>\n",
       "      <td>D2293</td>\n",
       "      <td>D2293-8</td>\n",
       "      <td>The meaning of life is in the philosophical an...</td>\n",
       "    </tr>\n",
       "    <tr>\n",
       "      <th>16606</th>\n",
       "      <td>16606</td>\n",
       "      <td>D2293</td>\n",
       "      <td>D2293-9</td>\n",
       "      <td>Scientific contributions focus primarily on de...</td>\n",
       "    </tr>\n",
       "    <tr>\n",
       "      <th>16607</th>\n",
       "      <td>16607</td>\n",
       "      <td>D2293</td>\n",
       "      <td>D2293-10</td>\n",
       "      <td>Science also studies and can provide recommend...</td>\n",
       "    </tr>\n",
       "    <tr>\n",
       "      <th>16608</th>\n",
       "      <td>16608</td>\n",
       "      <td>D2293</td>\n",
       "      <td>D2293-11</td>\n",
       "      <td>An alternative, humanistic approach poses the ...</td>\n",
       "    </tr>\n",
       "    <tr>\n",
       "      <th>16609</th>\n",
       "      <td>16609</td>\n",
       "      <td>D2293</td>\n",
       "      <td>D2293-12</td>\n",
       "      <td>The value of the question pertaining to the pu...</td>\n",
       "    </tr>\n",
       "    <tr>\n",
       "      <th>24546</th>\n",
       "      <td>24546</td>\n",
       "      <td>D1949</td>\n",
       "      <td>D1949-0</td>\n",
       "      <td>Paresthesia ( or ), is a sensation of tickling...</td>\n",
       "    </tr>\n",
       "    <tr>\n",
       "      <th>24547</th>\n",
       "      <td>24547</td>\n",
       "      <td>D1949</td>\n",
       "      <td>D1949-1</td>\n",
       "      <td>It is more generally known as the feeling of \"...</td>\n",
       "    </tr>\n",
       "    <tr>\n",
       "      <th>24548</th>\n",
       "      <td>24548</td>\n",
       "      <td>D1949</td>\n",
       "      <td>D1949-2</td>\n",
       "      <td>The manifestation of paresthesia may be transi...</td>\n",
       "    </tr>\n",
       "    <tr>\n",
       "      <th>26285</th>\n",
       "      <td>26285</td>\n",
       "      <td>D2724</td>\n",
       "      <td>D2724-0</td>\n",
       "      <td>Jamie Lee Curtis, Baroness Haden-Guest (born N...</td>\n",
       "    </tr>\n",
       "    <tr>\n",
       "      <th>26286</th>\n",
       "      <td>26286</td>\n",
       "      <td>D2724</td>\n",
       "      <td>D2724-1</td>\n",
       "      <td>Although she was initially known as a \" scream...</td>\n",
       "    </tr>\n",
       "    <tr>\n",
       "      <th>26287</th>\n",
       "      <td>26287</td>\n",
       "      <td>D2724</td>\n",
       "      <td>D2724-2</td>\n",
       "      <td>Her 1998 book, Today I Feel Silly, and Other M...</td>\n",
       "    </tr>\n",
       "    <tr>\n",
       "      <th>26288</th>\n",
       "      <td>26288</td>\n",
       "      <td>D2724</td>\n",
       "      <td>D2724-3</td>\n",
       "      <td>Curtis has appeared in advertisements, and is ...</td>\n",
       "    </tr>\n",
       "    <tr>\n",
       "      <th>26289</th>\n",
       "      <td>26289</td>\n",
       "      <td>D2724</td>\n",
       "      <td>D2724-4</td>\n",
       "      <td>She is married to actor, screenwriter, and dir...</td>\n",
       "    </tr>\n",
       "  </tbody>\n",
       "</table>\n",
       "</div>"
      ],
      "text/plain": [
       "       Unnamed: 0 DocumentID SentenceID  \\\n",
       "3391         3391       D468     D468-0   \n",
       "3392         3392       D468     D468-1   \n",
       "3393         3393       D468     D468-2   \n",
       "3394         3394       D468     D468-3   \n",
       "3395         3395       D468     D468-4   \n",
       "3396         3396       D468     D468-5   \n",
       "3397         3397       D468     D468-6   \n",
       "3398         3398       D468     D468-7   \n",
       "3399         3399       D468     D468-8   \n",
       "3400         3400       D468     D468-9   \n",
       "3401         3401       D468    D468-10   \n",
       "3402         3402       D468    D468-11   \n",
       "3403         3403       D468    D468-12   \n",
       "3404         3404       D468    D468-13   \n",
       "3405         3405       D468    D468-14   \n",
       "3406         3406       D468    D468-15   \n",
       "9491         9491      D1283    D1283-0   \n",
       "9492         9492      D1283    D1283-1   \n",
       "9493         9493      D1283    D1283-2   \n",
       "16597       16597      D2293    D2293-0   \n",
       "16598       16598      D2293    D2293-1   \n",
       "16599       16599      D2293    D2293-2   \n",
       "16600       16600      D2293    D2293-3   \n",
       "16601       16601      D2293    D2293-4   \n",
       "16602       16602      D2293    D2293-5   \n",
       "16603       16603      D2293    D2293-6   \n",
       "16604       16604      D2293    D2293-7   \n",
       "16605       16605      D2293    D2293-8   \n",
       "16606       16606      D2293    D2293-9   \n",
       "16607       16607      D2293   D2293-10   \n",
       "16608       16608      D2293   D2293-11   \n",
       "16609       16609      D2293   D2293-12   \n",
       "24546       24546      D1949    D1949-0   \n",
       "24547       24547      D1949    D1949-1   \n",
       "24548       24548      D1949    D1949-2   \n",
       "26285       26285      D2724    D2724-0   \n",
       "26286       26286      D2724    D2724-1   \n",
       "26287       26287      D2724    D2724-2   \n",
       "26288       26288      D2724    D2724-3   \n",
       "26289       26289      D2724    D2724-4   \n",
       "\n",
       "                                                Sentence  \n",
       "3391   Self-esteem is a term used in psychology to re...  \n",
       "3392   It is a judgement of oneself as well as an att...  \n",
       "3393   Self-esteem encompasses beliefs (for example, ...  \n",
       "3394   Smith and Mackie define it by saying \"The self...  \n",
       "3395   Self-esteem is also known as the evaluative di...  \n",
       "3396   One's self-esteem is also closely associated w...  \n",
       "3397   Self-esteem is a disposition that a person has...  \n",
       "3398   In the mid-1960s, Morris Rosenberg and social-...  \n",
       "3399   Nathaniel Branden in 1969 defined self-esteem ...  \n",
       "3400   According to Branden, self-esteem is the sum o...  \n",
       "3401   It exists as a consequence of the implicit jud...  \n",
       "3402   As a social psychological construct, self-este...  \n",
       "3403   In addition, self-esteem has also been treated...  \n",
       "3404   Self-esteem can apply specifically to a partic...  \n",
       "3405   Psychologists usually regard self-esteem as an...  \n",
       "3406   Synonyms or near-synonyms of self-esteem inclu...  \n",
       "9491   The Gift is the second album by Scottish singe...  \n",
       "9492   Boyle hinted that the album has a 1960s feel \"...  \n",
       "9493   on 30 November 2011, the album received a nomi...  \n",
       "16597                             Where Do We Come From?  \n",
       "16598                                       What Are We?  \n",
       "16599                                Where Are We Going?  \n",
       "16600  One of Post-Impressionist Paul Gauguin 's most...  \n",
       "16601  The meaning of life is a philosophical questio...  \n",
       "16602  It can also be expressed in different forms, s...  \n",
       "16603  It has been the subject of much philosophical,...  \n",
       "16604  There have been a large number of proposed ans...  \n",
       "16605  The meaning of life is in the philosophical an...  \n",
       "16606  Scientific contributions focus primarily on de...  \n",
       "16607  Science also studies and can provide recommend...  \n",
       "16608  An alternative, humanistic approach poses the ...  \n",
       "16609  The value of the question pertaining to the pu...  \n",
       "24546  Paresthesia ( or ), is a sensation of tickling...  \n",
       "24547  It is more generally known as the feeling of \"...  \n",
       "24548  The manifestation of paresthesia may be transi...  \n",
       "26285  Jamie Lee Curtis, Baroness Haden-Guest (born N...  \n",
       "26286  Although she was initially known as a \" scream...  \n",
       "26287  Her 1998 book, Today I Feel Silly, and Other M...  \n",
       "26288  Curtis has appeared in advertisements, and is ...  \n",
       "26289  She is married to actor, screenwriter, and dir...  "
      ]
     },
     "execution_count": 200,
     "metadata": {},
     "output_type": "execute_result"
    }
   ],
   "source": [
    "from nltk.stem.snowball import SnowballStemmer\n",
    "\n",
    "documents_sentences_df = pd.read_table(\"C:\\Users\\JareD\\Major Project\\EvenSem\\Data\\Documents_Sentences.tsv\")\n",
    "documents_clusters_df = pd.read_table(\"C:\\Users\\JareD\\Major Project\\EvenSem\\Data\\Documents_Clusters.tsv\")\n",
    "tfidf_vocabulary = pickle.load(open(\"C:\\Users\\JareD\\Major Project\\EvenSem\\Models\\IR\\Tfidf_Vocabulary.pkl\", \"rb\"))\n",
    "tfidf_matrix = pickle.load(open(\"C:\\Users\\JareD\\Major Project\\EvenSem\\Models\\IR\\Tfidf_Matrix.pkl\", \"rb\"))\n",
    "km = pickle.load(open(\"C:\\Users\\JareD\\Major Project\\EvenSem\\Models\\IR\\KMeans.pkl\", \"rb\"))\n",
    "stemmer = SnowballStemmer(\"english\")\n",
    "\n",
    "def preprocess(inputString):\n",
    "    inputString = inputString.lower()\n",
    "    inputString = re.sub('[%s]' % re.escape(string.punctuation), '', inputString)\n",
    "    inputString = ' '.join(inputString.replace(\"'s\", '').split())\n",
    "    return re.sub( '\\s+', ' ', inputString).strip()\n",
    "\n",
    "def queryVectorize(question):\n",
    "    tokens = nltk.word_tokenize(question)\n",
    "    queryTf = [stemmer.stem(token) for token in tokens]\n",
    "    \n",
    "    terms = tfidf_vocabulary\n",
    "    tfVector = [0 for i in range(len(terms))]\n",
    "    for term in queryTf:\n",
    "        if term in terms:\n",
    "            tfVector[terms.index(term)] = tfVector[terms.index(term)] + 1\n",
    "            #print term\n",
    "        #else:\n",
    "            #print \"----\", term\n",
    "    return np.array(tfVector)\n",
    "\n",
    "def retrieveDocuments(question):\n",
    "    question = preprocess(question)\n",
    "    #print question\n",
    "    question_vector = queryVectorize(question)\n",
    "    #print question_vector\n",
    "    cosine_similarities_clusters = cosine_similarity(question_vector.reshape(1, -1), km.cluster_centers_)[0]\n",
    "    cosine_similarities_documents = cosine_similarity(question_vector.reshape(1, -1), tfidf_matrix)[0]\n",
    "    documents_id = document_clusters_df['DocumentID']\n",
    "    ranked_list = zip(documents_id, cosine_similarities_documents)\n",
    "    ranked_list = np.array(ranked_list)\n",
    "    ranked_list = ranked_list[np.argsort(ranked_list[:, 1])]\n",
    "    ranked_list = ranked_list[::-1]\n",
    "    retrieved_documents = list(ranked_list[:, 0][:5]) \n",
    "    print retrieved_documents\n",
    "    return retrieved_documents\n",
    "\n",
    "def loadDataset(question):\n",
    "    retrieved_documents = retrieveDocuments(question)\n",
    "    print retrieved_documents\n",
    "    return documents_sentences_df[documents_sentences_df['DocumentID'].isin(retrieved_documents)]\n",
    "\n",
    "loadDataset(\"How are you feeling today?\")"
   ]
  },
  {
   "cell_type": "code",
   "execution_count": 168,
   "metadata": {
    "collapsed": false
   },
   "outputs": [
    {
     "data": {
      "text/plain": [
       "[1, 4, 5, 6]"
      ]
     },
     "execution_count": 168,
     "metadata": {},
     "output_type": "execute_result"
    }
   ],
   "source": [
    "a = [3, 4 , 2, 1, 5, 6, 7]\n",
    "sorted(range(len(a)), key=lambda i: a[i])[-4:]"
   ]
  },
  {
   "cell_type": "code",
   "execution_count": 181,
   "metadata": {
    "collapsed": false
   },
   "outputs": [
    {
     "data": {
      "text/plain": [
       "440"
      ]
     },
     "execution_count": 181,
     "metadata": {},
     "output_type": "execute_result"
    }
   ],
   "source": [
    "document_clusters_df['Cluster'].value_counts()"
   ]
  },
  {
   "cell_type": "code",
   "execution_count": 185,
   "metadata": {
    "collapsed": false
   },
   "outputs": [
    {
     "data": {
      "text/plain": [
       "array([1, 3])"
      ]
     },
     "execution_count": 185,
     "metadata": {},
     "output_type": "execute_result"
    }
   ],
   "source": [
    "x = np.array([[1, 2], [3, 4]])\n",
    "x[:, 0][:2]"
   ]
  },
  {
   "cell_type": "code",
   "execution_count": 191,
   "metadata": {
    "collapsed": false
   },
   "outputs": [
    {
     "data": {
      "text/html": [
       "<div>\n",
       "<table border=\"1\" class=\"dataframe\">\n",
       "  <thead>\n",
       "    <tr style=\"text-align: right;\">\n",
       "      <th></th>\n",
       "      <th>Unnamed: 0</th>\n",
       "      <th>DocumentID</th>\n",
       "      <th>SentenceID</th>\n",
       "      <th>Sentence</th>\n",
       "    </tr>\n",
       "  </thead>\n",
       "  <tbody>\n",
       "    <tr>\n",
       "      <th>0</th>\n",
       "      <td>0</td>\n",
       "      <td>D1</td>\n",
       "      <td>D1-0</td>\n",
       "      <td>A partly submerged glacier cave on Perito More...</td>\n",
       "    </tr>\n",
       "    <tr>\n",
       "      <th>1</th>\n",
       "      <td>1</td>\n",
       "      <td>D1</td>\n",
       "      <td>D1-1</td>\n",
       "      <td>The ice facade is approximately 60 m high</td>\n",
       "    </tr>\n",
       "    <tr>\n",
       "      <th>2</th>\n",
       "      <td>2</td>\n",
       "      <td>D1</td>\n",
       "      <td>D1-2</td>\n",
       "      <td>Ice formations in the Titlis glacier cave</td>\n",
       "    </tr>\n",
       "    <tr>\n",
       "      <th>3</th>\n",
       "      <td>3</td>\n",
       "      <td>D1</td>\n",
       "      <td>D1-3</td>\n",
       "      <td>A glacier cave is a cave formed within the ice...</td>\n",
       "    </tr>\n",
       "    <tr>\n",
       "      <th>4</th>\n",
       "      <td>4</td>\n",
       "      <td>D1</td>\n",
       "      <td>D1-4</td>\n",
       "      <td>Glacier caves are often called ice caves , but...</td>\n",
       "    </tr>\n",
       "    <tr>\n",
       "      <th>20347</th>\n",
       "      <td>20347</td>\n",
       "      <td>D0</td>\n",
       "      <td>D0-0</td>\n",
       "      <td>African immigration to the United States refer...</td>\n",
       "    </tr>\n",
       "    <tr>\n",
       "      <th>20348</th>\n",
       "      <td>20348</td>\n",
       "      <td>D0</td>\n",
       "      <td>D0-1</td>\n",
       "      <td>The term African in the scope of this article ...</td>\n",
       "    </tr>\n",
       "    <tr>\n",
       "      <th>20349</th>\n",
       "      <td>20349</td>\n",
       "      <td>D0</td>\n",
       "      <td>D0-2</td>\n",
       "      <td>From the Immigration and Nationality Act of 19...</td>\n",
       "    </tr>\n",
       "    <tr>\n",
       "      <th>20350</th>\n",
       "      <td>20350</td>\n",
       "      <td>D0</td>\n",
       "      <td>D0-3</td>\n",
       "      <td>African immigrants in the United States come f...</td>\n",
       "    </tr>\n",
       "    <tr>\n",
       "      <th>20351</th>\n",
       "      <td>20351</td>\n",
       "      <td>D0</td>\n",
       "      <td>D0-4</td>\n",
       "      <td>They include people from different national, l...</td>\n",
       "    </tr>\n",
       "    <tr>\n",
       "      <th>20352</th>\n",
       "      <td>20352</td>\n",
       "      <td>D0</td>\n",
       "      <td>D0-5</td>\n",
       "      <td>As such, African immigrants are to be distingu...</td>\n",
       "    </tr>\n",
       "  </tbody>\n",
       "</table>\n",
       "</div>"
      ],
      "text/plain": [
       "       Unnamed: 0 DocumentID SentenceID  \\\n",
       "0               0         D1       D1-0   \n",
       "1               1         D1       D1-1   \n",
       "2               2         D1       D1-2   \n",
       "3               3         D1       D1-3   \n",
       "4               4         D1       D1-4   \n",
       "20347       20347         D0       D0-0   \n",
       "20348       20348         D0       D0-1   \n",
       "20349       20349         D0       D0-2   \n",
       "20350       20350         D0       D0-3   \n",
       "20351       20351         D0       D0-4   \n",
       "20352       20352         D0       D0-5   \n",
       "\n",
       "                                                Sentence  \n",
       "0      A partly submerged glacier cave on Perito More...  \n",
       "1              The ice facade is approximately 60 m high  \n",
       "2              Ice formations in the Titlis glacier cave  \n",
       "3      A glacier cave is a cave formed within the ice...  \n",
       "4      Glacier caves are often called ice caves , but...  \n",
       "20347  African immigration to the United States refer...  \n",
       "20348  The term African in the scope of this article ...  \n",
       "20349  From the Immigration and Nationality Act of 19...  \n",
       "20350  African immigrants in the United States come f...  \n",
       "20351  They include people from different national, l...  \n",
       "20352  As such, African immigrants are to be distingu...  "
      ]
     },
     "execution_count": 191,
     "metadata": {},
     "output_type": "execute_result"
    }
   ],
   "source": [
    "documents_sentences_df[documents_sentences_df['DocumentID'].isin(['D0', 'D1'])]"
   ]
  },
  {
   "cell_type": "code",
   "execution_count": 193,
   "metadata": {
    "collapsed": false
   },
   "outputs": [
    {
     "data": {
      "text/plain": [
       "{'Cluster': array([ 8,  8,  2, ..., 11,  8, 14]), 'DocumentID': 0          D1\n",
       " 1          D2\n",
       " 2          D5\n",
       " 3          D6\n",
       " 4          D7\n",
       " 5          D9\n",
       " 6         D10\n",
       " 7         D12\n",
       " 8         D13\n",
       " 9         D14\n",
       " 10        D15\n",
       " 11        D16\n",
       " 12        D17\n",
       " 13        D18\n",
       " 14        D19\n",
       " 15        D21\n",
       " 16        D22\n",
       " 17        D23\n",
       " 18        D24\n",
       " 19        D25\n",
       " 20        D26\n",
       " 21        D27\n",
       " 22        D28\n",
       " 23        D29\n",
       " 24        D30\n",
       " 25        D31\n",
       " 26        D32\n",
       " 27        D34\n",
       " 28        D35\n",
       " 29        D36\n",
       "         ...  \n",
       " 2778    D2498\n",
       " 2779    D2513\n",
       " 2780    D2526\n",
       " 2781    D2533\n",
       " 2782    D2549\n",
       " 2783    D2556\n",
       " 2784    D2558\n",
       " 2785    D2574\n",
       " 2786    D2577\n",
       " 2787    D2578\n",
       " 2788    D2581\n",
       " 2789    D2583\n",
       " 2790    D2585\n",
       " 2791    D2626\n",
       " 2792    D2632\n",
       " 2793    D2635\n",
       " 2794    D2653\n",
       " 2795    D2698\n",
       " 2796    D2699\n",
       " 2797    D2710\n",
       " 2798    D2721\n",
       " 2799    D2732\n",
       " 2800    D2735\n",
       " 2801    D2737\n",
       " 2802    D2743\n",
       " 2803    D2747\n",
       " 2804    D2751\n",
       " 2805    D2763\n",
       " 2806    D2768\n",
       " 2807    D2785\n",
       " Name: DocumentID, dtype: object}"
      ]
     },
     "execution_count": 193,
     "metadata": {},
     "output_type": "execute_result"
    }
   ],
   "source": [
    "document_clusters"
   ]
  },
  {
   "cell_type": "code",
   "execution_count": 203,
   "metadata": {
    "collapsed": false
   },
   "outputs": [
    {
     "data": {
      "text/plain": [
       "4"
      ]
     },
     "execution_count": 203,
     "metadata": {},
     "output_type": "execute_result"
    }
   ],
   "source": [
    "x = [1, 2, 3, 4, 7, 6, 7]\n",
    "x.index(max(x))"
   ]
  },
  {
   "cell_type": "code",
   "execution_count": 30,
   "metadata": {
    "collapsed": false
   },
   "outputs": [
    {
     "ename": "KeyboardInterrupt",
     "evalue": "",
     "output_type": "error",
     "traceback": [
      "\u001b[1;31m---------------------------------------------------------------------------\u001b[0m",
      "\u001b[1;31mKeyboardInterrupt\u001b[0m                         Traceback (most recent call last)",
      "\u001b[1;32m<ipython-input-30-bb724cb06265>\u001b[0m in \u001b[0;36m<module>\u001b[1;34m()\u001b[0m\n\u001b[0;32m     13\u001b[0m \u001b[0mmds\u001b[0m \u001b[1;33m=\u001b[0m \u001b[0mMDS\u001b[0m\u001b[1;33m(\u001b[0m\u001b[0mn_components\u001b[0m\u001b[1;33m=\u001b[0m\u001b[1;36m2\u001b[0m\u001b[1;33m,\u001b[0m \u001b[0mdissimilarity\u001b[0m\u001b[1;33m=\u001b[0m\u001b[1;34m\"precomputed\"\u001b[0m\u001b[1;33m,\u001b[0m \u001b[0mrandom_state\u001b[0m\u001b[1;33m=\u001b[0m\u001b[1;36m1\u001b[0m\u001b[1;33m)\u001b[0m\u001b[1;33m\u001b[0m\u001b[0m\n\u001b[0;32m     14\u001b[0m \u001b[1;33m\u001b[0m\u001b[0m\n\u001b[1;32m---> 15\u001b[1;33m \u001b[0mpos\u001b[0m \u001b[1;33m=\u001b[0m \u001b[0mmds\u001b[0m\u001b[1;33m.\u001b[0m\u001b[0mfit_transform\u001b[0m\u001b[1;33m(\u001b[0m\u001b[0mdist\u001b[0m\u001b[1;33m)\u001b[0m  \u001b[1;31m# shape (n_components, n_samples)\u001b[0m\u001b[1;33m\u001b[0m\u001b[0m\n\u001b[0m\u001b[0;32m     16\u001b[0m \u001b[1;33m\u001b[0m\u001b[0m\n\u001b[0;32m     17\u001b[0m \u001b[0mxs\u001b[0m\u001b[1;33m,\u001b[0m \u001b[0mys\u001b[0m \u001b[1;33m=\u001b[0m \u001b[0mpos\u001b[0m\u001b[1;33m[\u001b[0m\u001b[1;33m:\u001b[0m\u001b[1;33m,\u001b[0m \u001b[1;36m0\u001b[0m\u001b[1;33m]\u001b[0m\u001b[1;33m,\u001b[0m \u001b[0mpos\u001b[0m\u001b[1;33m[\u001b[0m\u001b[1;33m:\u001b[0m\u001b[1;33m,\u001b[0m \u001b[1;36m1\u001b[0m\u001b[1;33m]\u001b[0m\u001b[1;33m\u001b[0m\u001b[0m\n",
      "\u001b[1;32mC:\\Users\\JareD\\Anaconda2\\lib\\site-packages\\sklearn\\manifold\\mds.pyc\u001b[0m in \u001b[0;36mfit_transform\u001b[1;34m(self, X, y, init)\u001b[0m\n\u001b[0;32m    412\u001b[0m             \u001b[0mn_jobs\u001b[0m\u001b[1;33m=\u001b[0m\u001b[0mself\u001b[0m\u001b[1;33m.\u001b[0m\u001b[0mn_jobs\u001b[0m\u001b[1;33m,\u001b[0m \u001b[0mmax_iter\u001b[0m\u001b[1;33m=\u001b[0m\u001b[0mself\u001b[0m\u001b[1;33m.\u001b[0m\u001b[0mmax_iter\u001b[0m\u001b[1;33m,\u001b[0m \u001b[0mverbose\u001b[0m\u001b[1;33m=\u001b[0m\u001b[0mself\u001b[0m\u001b[1;33m.\u001b[0m\u001b[0mverbose\u001b[0m\u001b[1;33m,\u001b[0m\u001b[1;33m\u001b[0m\u001b[0m\n\u001b[0;32m    413\u001b[0m             \u001b[0meps\u001b[0m\u001b[1;33m=\u001b[0m\u001b[0mself\u001b[0m\u001b[1;33m.\u001b[0m\u001b[0meps\u001b[0m\u001b[1;33m,\u001b[0m \u001b[0mrandom_state\u001b[0m\u001b[1;33m=\u001b[0m\u001b[0mself\u001b[0m\u001b[1;33m.\u001b[0m\u001b[0mrandom_state\u001b[0m\u001b[1;33m,\u001b[0m\u001b[1;33m\u001b[0m\u001b[0m\n\u001b[1;32m--> 414\u001b[1;33m             return_n_iter=True)\n\u001b[0m\u001b[0;32m    415\u001b[0m \u001b[1;33m\u001b[0m\u001b[0m\n\u001b[0;32m    416\u001b[0m         \u001b[1;32mreturn\u001b[0m \u001b[0mself\u001b[0m\u001b[1;33m.\u001b[0m\u001b[0membedding_\u001b[0m\u001b[1;33m\u001b[0m\u001b[0m\n",
      "\u001b[1;32mC:\\Users\\JareD\\Anaconda2\\lib\\site-packages\\sklearn\\manifold\\mds.pyc\u001b[0m in \u001b[0;36msmacof\u001b[1;34m(similarities, metric, n_components, init, n_init, n_jobs, max_iter, verbose, eps, random_state, return_n_iter)\u001b[0m\n\u001b[0;32m    247\u001b[0m                 \u001b[0mn_components\u001b[0m\u001b[1;33m=\u001b[0m\u001b[0mn_components\u001b[0m\u001b[1;33m,\u001b[0m \u001b[0minit\u001b[0m\u001b[1;33m=\u001b[0m\u001b[0minit\u001b[0m\u001b[1;33m,\u001b[0m\u001b[1;33m\u001b[0m\u001b[0m\n\u001b[0;32m    248\u001b[0m                 \u001b[0mmax_iter\u001b[0m\u001b[1;33m=\u001b[0m\u001b[0mmax_iter\u001b[0m\u001b[1;33m,\u001b[0m \u001b[0mverbose\u001b[0m\u001b[1;33m=\u001b[0m\u001b[0mverbose\u001b[0m\u001b[1;33m,\u001b[0m\u001b[1;33m\u001b[0m\u001b[0m\n\u001b[1;32m--> 249\u001b[1;33m                 eps=eps, random_state=random_state)\n\u001b[0m\u001b[0;32m    250\u001b[0m             \u001b[1;32mif\u001b[0m \u001b[0mbest_stress\u001b[0m \u001b[1;32mis\u001b[0m \u001b[0mNone\u001b[0m \u001b[1;32mor\u001b[0m \u001b[0mstress\u001b[0m \u001b[1;33m<\u001b[0m \u001b[0mbest_stress\u001b[0m\u001b[1;33m:\u001b[0m\u001b[1;33m\u001b[0m\u001b[0m\n\u001b[0;32m    251\u001b[0m                 \u001b[0mbest_stress\u001b[0m \u001b[1;33m=\u001b[0m \u001b[0mstress\u001b[0m\u001b[1;33m\u001b[0m\u001b[0m\n",
      "\u001b[1;32mC:\\Users\\JareD\\Anaconda2\\lib\\site-packages\\sklearn\\manifold\\mds.pyc\u001b[0m in \u001b[0;36m_smacof_single\u001b[1;34m(similarities, metric, n_components, init, max_iter, verbose, eps, random_state)\u001b[0m\n\u001b[0;32m    111\u001b[0m         \u001b[1;31m# Update X using the Guttman transform\u001b[0m\u001b[1;33m\u001b[0m\u001b[1;33m\u001b[0m\u001b[0m\n\u001b[0;32m    112\u001b[0m         \u001b[0mdis\u001b[0m\u001b[1;33m[\u001b[0m\u001b[0mdis\u001b[0m \u001b[1;33m==\u001b[0m \u001b[1;36m0\u001b[0m\u001b[1;33m]\u001b[0m \u001b[1;33m=\u001b[0m \u001b[1;36m1e-5\u001b[0m\u001b[1;33m\u001b[0m\u001b[0m\n\u001b[1;32m--> 113\u001b[1;33m         \u001b[0mratio\u001b[0m \u001b[1;33m=\u001b[0m \u001b[0mdisparities\u001b[0m \u001b[1;33m/\u001b[0m \u001b[0mdis\u001b[0m\u001b[1;33m\u001b[0m\u001b[0m\n\u001b[0m\u001b[0;32m    114\u001b[0m         \u001b[0mB\u001b[0m \u001b[1;33m=\u001b[0m \u001b[1;33m-\u001b[0m \u001b[0mratio\u001b[0m\u001b[1;33m\u001b[0m\u001b[0m\n\u001b[0;32m    115\u001b[0m         \u001b[0mB\u001b[0m\u001b[1;33m[\u001b[0m\u001b[0mnp\u001b[0m\u001b[1;33m.\u001b[0m\u001b[0marange\u001b[0m\u001b[1;33m(\u001b[0m\u001b[0mlen\u001b[0m\u001b[1;33m(\u001b[0m\u001b[0mB\u001b[0m\u001b[1;33m)\u001b[0m\u001b[1;33m)\u001b[0m\u001b[1;33m,\u001b[0m \u001b[0mnp\u001b[0m\u001b[1;33m.\u001b[0m\u001b[0marange\u001b[0m\u001b[1;33m(\u001b[0m\u001b[0mlen\u001b[0m\u001b[1;33m(\u001b[0m\u001b[0mB\u001b[0m\u001b[1;33m)\u001b[0m\u001b[1;33m)\u001b[0m\u001b[1;33m]\u001b[0m \u001b[1;33m+=\u001b[0m \u001b[0mratio\u001b[0m\u001b[1;33m.\u001b[0m\u001b[0msum\u001b[0m\u001b[1;33m(\u001b[0m\u001b[0maxis\u001b[0m\u001b[1;33m=\u001b[0m\u001b[1;36m1\u001b[0m\u001b[1;33m)\u001b[0m\u001b[1;33m\u001b[0m\u001b[0m\n",
      "\u001b[1;31mKeyboardInterrupt\u001b[0m: "
     ]
    }
   ],
   "source": [
    "import os  # for os.path.basename\n",
    "\n",
    "import matplotlib.pyplot as plt\n",
    "import matplotlib as mpl\n",
    "\n",
    "from sklearn.manifold import MDS\n",
    "\n",
    "MDS()\n",
    "\n",
    "# convert two components as we're plotting points in a two-dimensional plane\n",
    "# \"precomputed\" because we provide a distance matrix\n",
    "# we will also specify `random_state` so the plot is reproducible.\n",
    "mds = MDS(n_components=2, dissimilarity=\"precomputed\", random_state=1)\n",
    "\n",
    "pos = mds.fit_transform(dist)  # shape (n_components, n_samples)\n",
    "\n",
    "xs, ys = pos[:, 0], pos[:, 1]\n",
    "print()\n",
    "print()"
   ]
  },
  {
   "cell_type": "code",
   "execution_count": 31,
   "metadata": {
    "collapsed": false
   },
   "outputs": [
    {
     "data": {
      "text/html": [
       "<div>\n",
       "<table border=\"1\" class=\"dataframe\">\n",
       "  <thead>\n",
       "    <tr style=\"text-align: right;\">\n",
       "      <th></th>\n",
       "      <th>Unnamed: 0</th>\n",
       "      <th>DocumentID</th>\n",
       "      <th>Cluster</th>\n",
       "    </tr>\n",
       "  </thead>\n",
       "  <tbody>\n",
       "    <tr>\n",
       "      <th>0</th>\n",
       "      <td>0</td>\n",
       "      <td>D1</td>\n",
       "      <td>8</td>\n",
       "    </tr>\n",
       "    <tr>\n",
       "      <th>1</th>\n",
       "      <td>1</td>\n",
       "      <td>D2</td>\n",
       "      <td>8</td>\n",
       "    </tr>\n",
       "    <tr>\n",
       "      <th>2</th>\n",
       "      <td>2</td>\n",
       "      <td>D5</td>\n",
       "      <td>2</td>\n",
       "    </tr>\n",
       "    <tr>\n",
       "      <th>3</th>\n",
       "      <td>3</td>\n",
       "      <td>D6</td>\n",
       "      <td>4</td>\n",
       "    </tr>\n",
       "    <tr>\n",
       "      <th>4</th>\n",
       "      <td>4</td>\n",
       "      <td>D7</td>\n",
       "      <td>8</td>\n",
       "    </tr>\n",
       "  </tbody>\n",
       "</table>\n",
       "</div>"
      ],
      "text/plain": [
       "   Unnamed: 0 DocumentID  Cluster\n",
       "0           0         D1        8\n",
       "1           1         D2        8\n",
       "2           2         D5        2\n",
       "3           3         D6        4\n",
       "4           4         D7        8"
      ]
     },
     "execution_count": 31,
     "metadata": {},
     "output_type": "execute_result"
    }
   ],
   "source": [
    "documents_clusters_df.head()"
   ]
  },
  {
   "cell_type": "code",
   "execution_count": 2,
   "metadata": {
    "collapsed": false
   },
   "outputs": [],
   "source": [
    "import pandas as pd\n",
    "df = pd.read_table(\"C:\\Users\\JareD\\Major Project\\EvenSem\\Data\\DataSet_Feature_Extraction_3.tsv\")"
   ]
  },
  {
   "cell_type": "code",
   "execution_count": 9,
   "metadata": {
    "collapsed": false
   },
   "outputs": [
    {
     "ename": "TypeError",
     "evalue": "ufunc 'add' did not contain a loop with signature matching types dtype('S21') dtype('S21') dtype('S21')",
     "output_type": "error",
     "traceback": [
      "\u001b[1;31m---------------------------------------------------------------------------\u001b[0m",
      "\u001b[1;31mTypeError\u001b[0m                                 Traceback (most recent call last)",
      "\u001b[1;32m<ipython-input-9-f991276b5677>\u001b[0m in \u001b[0;36m<module>\u001b[1;34m()\u001b[0m\n\u001b[0;32m      1\u001b[0m \u001b[0mrow\u001b[0m \u001b[1;33m=\u001b[0m \u001b[0mdf\u001b[0m\u001b[1;33m.\u001b[0m\u001b[0mhead\u001b[0m\u001b[1;33m(\u001b[0m\u001b[1;36m1\u001b[0m\u001b[1;33m)\u001b[0m\u001b[1;33m\u001b[0m\u001b[0m\n\u001b[0;32m      2\u001b[0m \u001b[1;32mfor\u001b[0m \u001b[0mcolumn\u001b[0m \u001b[1;32min\u001b[0m \u001b[0mdf\u001b[0m\u001b[1;33m.\u001b[0m\u001b[0mcolumns\u001b[0m\u001b[1;33m:\u001b[0m\u001b[1;33m\u001b[0m\u001b[0m\n\u001b[1;32m----> 3\u001b[1;33m     \u001b[1;32mprint\u001b[0m \u001b[0mcolumn\u001b[0m \u001b[1;33m+\u001b[0m \u001b[1;34m\"\\t\\t\"\u001b[0m \u001b[1;33m+\u001b[0m \u001b[0mrow\u001b[0m\u001b[1;33m[\u001b[0m\u001b[0mcolumn\u001b[0m\u001b[1;33m]\u001b[0m\u001b[1;33m\u001b[0m\u001b[0m\n\u001b[0m\u001b[0;32m      4\u001b[0m \u001b[1;33m\u001b[0m\u001b[0m\n",
      "\u001b[1;32mC:\\Users\\JareD\\Anaconda2\\lib\\site-packages\\pandas\\core\\ops.pyc\u001b[0m in \u001b[0;36mwrapper\u001b[1;34m(left, right, name, na_op)\u001b[0m\n\u001b[0;32m    616\u001b[0m                 \u001b[0mlvalues\u001b[0m \u001b[1;33m=\u001b[0m \u001b[0mlvalues\u001b[0m\u001b[1;33m.\u001b[0m\u001b[0mvalues\u001b[0m\u001b[1;33m\u001b[0m\u001b[0m\n\u001b[0;32m    617\u001b[0m \u001b[1;33m\u001b[0m\u001b[0m\n\u001b[1;32m--> 618\u001b[1;33m             return left._constructor(wrap_results(na_op(lvalues, rvalues)),\n\u001b[0m\u001b[0;32m    619\u001b[0m                                      \u001b[0mindex\u001b[0m\u001b[1;33m=\u001b[0m\u001b[0mleft\u001b[0m\u001b[1;33m.\u001b[0m\u001b[0mindex\u001b[0m\u001b[1;33m,\u001b[0m \u001b[0mname\u001b[0m\u001b[1;33m=\u001b[0m\u001b[0mleft\u001b[0m\u001b[1;33m.\u001b[0m\u001b[0mname\u001b[0m\u001b[1;33m,\u001b[0m\u001b[1;33m\u001b[0m\u001b[0m\n\u001b[0;32m    620\u001b[0m                                      dtype=dtype)\n",
      "\u001b[1;32mC:\\Users\\JareD\\Anaconda2\\lib\\site-packages\\pandas\\core\\ops.pyc\u001b[0m in \u001b[0;36mna_op\u001b[1;34m(x, y)\u001b[0m\n\u001b[0;32m    561\u001b[0m                 \u001b[0mresult\u001b[0m \u001b[1;33m=\u001b[0m \u001b[0mnp\u001b[0m\u001b[1;33m.\u001b[0m\u001b[0mempty\u001b[0m\u001b[1;33m(\u001b[0m\u001b[0mlen\u001b[0m\u001b[1;33m(\u001b[0m\u001b[0mx\u001b[0m\u001b[1;33m)\u001b[0m\u001b[1;33m,\u001b[0m \u001b[0mdtype\u001b[0m\u001b[1;33m=\u001b[0m\u001b[0mx\u001b[0m\u001b[1;33m.\u001b[0m\u001b[0mdtype\u001b[0m\u001b[1;33m)\u001b[0m\u001b[1;33m\u001b[0m\u001b[0m\n\u001b[0;32m    562\u001b[0m                 \u001b[0mmask\u001b[0m \u001b[1;33m=\u001b[0m \u001b[0mnotnull\u001b[0m\u001b[1;33m(\u001b[0m\u001b[0mx\u001b[0m\u001b[1;33m)\u001b[0m\u001b[1;33m\u001b[0m\u001b[0m\n\u001b[1;32m--> 563\u001b[1;33m                 \u001b[0mresult\u001b[0m\u001b[1;33m[\u001b[0m\u001b[0mmask\u001b[0m\u001b[1;33m]\u001b[0m \u001b[1;33m=\u001b[0m \u001b[0mop\u001b[0m\u001b[1;33m(\u001b[0m\u001b[0mx\u001b[0m\u001b[1;33m[\u001b[0m\u001b[0mmask\u001b[0m\u001b[1;33m]\u001b[0m\u001b[1;33m,\u001b[0m \u001b[0my\u001b[0m\u001b[1;33m)\u001b[0m\u001b[1;33m\u001b[0m\u001b[0m\n\u001b[0m\u001b[0;32m    564\u001b[0m             \u001b[1;32melse\u001b[0m\u001b[1;33m:\u001b[0m\u001b[1;33m\u001b[0m\u001b[0m\n\u001b[0;32m    565\u001b[0m                 \u001b[1;32mraise\u001b[0m \u001b[0mTypeError\u001b[0m\u001b[1;33m(\u001b[0m\u001b[1;34m\"{typ} cannot perform the operation {op}\"\u001b[0m\u001b[1;33m.\u001b[0m\u001b[0mformat\u001b[0m\u001b[1;33m(\u001b[0m\u001b[0mtyp\u001b[0m\u001b[1;33m=\u001b[0m\u001b[0mtype\u001b[0m\u001b[1;33m(\u001b[0m\u001b[0mx\u001b[0m\u001b[1;33m)\u001b[0m\u001b[1;33m.\u001b[0m\u001b[0m__name__\u001b[0m\u001b[1;33m,\u001b[0m\u001b[0mop\u001b[0m\u001b[1;33m=\u001b[0m\u001b[0mstr_rep\u001b[0m\u001b[1;33m)\u001b[0m\u001b[1;33m)\u001b[0m\u001b[1;33m\u001b[0m\u001b[0m\n",
      "\u001b[1;32mC:\\Users\\JareD\\Anaconda2\\lib\\site-packages\\pandas\\core\\ops.pyc\u001b[0m in \u001b[0;36m_radd_compat\u001b[1;34m(left, right)\u001b[0m\n\u001b[0;32m    804\u001b[0m     \u001b[1;31m# GH #353, NumPy 1.5.1 workaround\u001b[0m\u001b[1;33m\u001b[0m\u001b[1;33m\u001b[0m\u001b[0m\n\u001b[0;32m    805\u001b[0m     \u001b[1;32mtry\u001b[0m\u001b[1;33m:\u001b[0m\u001b[1;33m\u001b[0m\u001b[0m\n\u001b[1;32m--> 806\u001b[1;33m         \u001b[0moutput\u001b[0m \u001b[1;33m=\u001b[0m \u001b[0mradd\u001b[0m\u001b[1;33m(\u001b[0m\u001b[0mleft\u001b[0m\u001b[1;33m,\u001b[0m \u001b[0mright\u001b[0m\u001b[1;33m)\u001b[0m\u001b[1;33m\u001b[0m\u001b[0m\n\u001b[0m\u001b[0;32m    807\u001b[0m     \u001b[1;32mexcept\u001b[0m \u001b[0mTypeError\u001b[0m\u001b[1;33m:\u001b[0m\u001b[1;33m\u001b[0m\u001b[0m\n\u001b[0;32m    808\u001b[0m         \u001b[1;32mraise\u001b[0m\u001b[1;33m\u001b[0m\u001b[0m\n",
      "\u001b[1;32mC:\\Users\\JareD\\Anaconda2\\lib\\site-packages\\pandas\\core\\ops.pyc\u001b[0m in \u001b[0;36m<lambda>\u001b[1;34m(x, y)\u001b[0m\n\u001b[0;32m    801\u001b[0m \u001b[1;33m\u001b[0m\u001b[0m\n\u001b[0;32m    802\u001b[0m \u001b[1;32mdef\u001b[0m \u001b[0m_radd_compat\u001b[0m\u001b[1;33m(\u001b[0m\u001b[0mleft\u001b[0m\u001b[1;33m,\u001b[0m \u001b[0mright\u001b[0m\u001b[1;33m)\u001b[0m\u001b[1;33m:\u001b[0m\u001b[1;33m\u001b[0m\u001b[0m\n\u001b[1;32m--> 803\u001b[1;33m     \u001b[0mradd\u001b[0m \u001b[1;33m=\u001b[0m \u001b[1;32mlambda\u001b[0m \u001b[0mx\u001b[0m\u001b[1;33m,\u001b[0m \u001b[0my\u001b[0m\u001b[1;33m:\u001b[0m \u001b[0my\u001b[0m \u001b[1;33m+\u001b[0m \u001b[0mx\u001b[0m\u001b[1;33m\u001b[0m\u001b[0m\n\u001b[0m\u001b[0;32m    804\u001b[0m     \u001b[1;31m# GH #353, NumPy 1.5.1 workaround\u001b[0m\u001b[1;33m\u001b[0m\u001b[1;33m\u001b[0m\u001b[0m\n\u001b[0;32m    805\u001b[0m     \u001b[1;32mtry\u001b[0m\u001b[1;33m:\u001b[0m\u001b[1;33m\u001b[0m\u001b[0m\n",
      "\u001b[1;31mTypeError\u001b[0m: ufunc 'add' did not contain a loop with signature matching types dtype('S21') dtype('S21') dtype('S21')"
     ]
    }
   ],
   "source": [
    "row = df.head(1)\n",
    "for column in df.columns:\n",
    "    print column + \"\\t\\t\" + row[column]\n",
    "    "
   ]
  },
  {
   "cell_type": "code",
   "execution_count": 11,
   "metadata": {
    "collapsed": false
   },
   "outputs": [
    {
     "name": "stdout",
     "output_type": "stream",
     "text": [
      "Unnamed: 0\n",
      "AntonymCount\n",
      "BigramCount\n",
      "HypernymCount\n",
      "HyponymCount\n",
      "IDFUnigramCount\n",
      "Label\n",
      "LemmaCount\n",
      "LevenshteinEditDistance\n",
      "NegativeSimilarity\n",
      "PositiveSimilarity\n",
      "Question\n",
      "QuestionID\n",
      "QuestionType\n",
      "Sentence\n",
      "SentenceID\n",
      "SynonymCount\n",
      "TrigramCount\n",
      "Type\n",
      "UnigramCount\n"
     ]
    }
   ],
   "source": []
  },
  {
   "cell_type": "code",
   "execution_count": null,
   "metadata": {
    "collapsed": true
   },
   "outputs": [],
   "source": []
  }
 ],
 "metadata": {
  "kernelspec": {
   "display_name": "Python 2",
   "language": "python",
   "name": "python2"
  },
  "language_info": {
   "codemirror_mode": {
    "name": "ipython",
    "version": 2
   },
   "file_extension": ".py",
   "mimetype": "text/x-python",
   "name": "python",
   "nbconvert_exporter": "python",
   "pygments_lexer": "ipython2",
   "version": "2.7.11"
  }
 },
 "nbformat": 4,
 "nbformat_minor": 0
}
